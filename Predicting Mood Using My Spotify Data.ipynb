{
 "cells": [
  {
   "cell_type": "code",
   "execution_count": 4,
   "metadata": {},
   "outputs": [
    {
     "data": {
      "image/png": "[encoded data removed]",
      "text/plain": [
       "<Figure size 288x72 with 1 Axes>"
      ]
     },
     "metadata": {},
     "output_type": "display_data"
    }
   ],
   "source": [
    "# Supporting both python 2 and python 3.\n",
    "from __future__ import division, print_function, unicode_literals\n",
    "\n",
    "#importing neccessary libraries.\n",
    "import numpy as np\n",
    "import os\n",
    "import pandas as pd\n",
    "\n",
    "#Importing matplotlib.\n",
    "#matplotlib is a visualization library in Python for 2D plots of arrays.\n",
    "%matplotlib inline\n",
    "import matplotlib as mpl\n",
    "import matplotlib.pyplot as plt\n",
    "mpl.rc('axes', labelsize=14)\n",
    "mpl.rc('xtick', labelsize=12)\n",
    "mpl.rc('ytick', labelsize=12)\n",
    "\n",
    "#Importing Seabron.\n",
    "#Seaborn is a library that uses Matplotlib underneath to plot graphs. It will be used to visualize random distributions.\n",
    "import seaborn as sns\n",
    "sns.set_style('white')\n",
    "\n",
    "#Defining custom palette.\n",
    "customPalette = ['#630C3A', '#20B2AA', '#D3500C', '#FFB139']\n",
    "sns.set_palette(customPalette)\n",
    "sns.palplot(customPalette)\n"
   ]
  },
  {
   "cell_type": "code",
   "execution_count": 6,
   "metadata": {},
   "outputs": [
    {
     "name": "stdout",
     "output_type": "stream",
     "text": [
      "<class 'pandas.core.frame.DataFrame'>\n",
      "RangeIndex: 100 entries, 0 to 99\n",
      "Data columns (total 17 columns):\n",
      " #   Column            Non-Null Count  Dtype  \n",
      "---  ------            --------------  -----  \n",
      " 0   Unnamed: 0        100 non-null    int64  \n",
      " 1   name              100 non-null    object \n",
      " 2   album             100 non-null    object \n",
      " 3   artist            100 non-null    object \n",
      " 4   release_date      100 non-null    object \n",
      " 5   length            100 non-null    int64  \n",
      " 6   popularity        100 non-null    int64  \n",
      " 7   danceability      100 non-null    float64\n",
      " 8   acousticness      100 non-null    float64\n",
      " 9   danceability.1    100 non-null    float64\n",
      " 10  energy            100 non-null    float64\n",
      " 11  instrumentalness  100 non-null    float64\n",
      " 12  liveness          100 non-null    float64\n",
      " 13  loudness          100 non-null    float64\n",
      " 14  speechiness       100 non-null    float64\n",
      " 15  tempo             100 non-null    float64\n",
      " 16  time_signature    100 non-null    int64  \n",
      "dtypes: float64(9), int64(4), object(4)\n",
      "memory usage: 13.4+ KB\n"
     ]
    }
   ],
   "source": [
    "# Import my spotify data.\n",
    "songs = pd.read_csv(r\"C:\\Users\\saima\\Desktop\\Predicting Mood Using My Spotify Playist Data\\spotify.csv\")\n",
    "\n",
    "songs.info()"
   ]
  },
  {
   "cell_type": "code",
   "execution_count": 7,
   "metadata": {
    "scrolled": true
   },
   "outputs": [
    {
     "data": {
      "text/html": [
       "<div>\n",
       "<style scoped>\n",
       "    .dataframe tbody tr th:only-of-type {\n",
       "        vertical-align: middle;\n",
       "    }\n",
       "\n",
       "    .dataframe tbody tr th {\n",
       "        vertical-align: top;\n",
       "    }\n",
       "\n",
       "    .dataframe thead th {\n",
       "        text-align: right;\n",
       "    }\n",
       "</style>\n",
       "<table border=\"1\" class=\"dataframe\">\n",
       "  <thead>\n",
       "    <tr style=\"text-align: right;\">\n",
       "      <th></th>\n",
       "      <th>name</th>\n",
       "      <th>artist</th>\n",
       "      <th>danceability</th>\n",
       "      <th>acousticness</th>\n",
       "      <th>liveness</th>\n",
       "      <th>loudness</th>\n",
       "      <th>speechiness</th>\n",
       "    </tr>\n",
       "  </thead>\n",
       "  <tbody>\n",
       "    <tr>\n",
       "      <th>0</th>\n",
       "      <td>I Will Always Love You</td>\n",
       "      <td>Whitney Houston</td>\n",
       "      <td>0.306</td>\n",
       "      <td>0.8440</td>\n",
       "      <td>0.0839</td>\n",
       "      <td>-12.518</td>\n",
       "      <td>0.0356</td>\n",
       "    </tr>\n",
       "    <tr>\n",
       "      <th>1</th>\n",
       "      <td>Love of the Common People</td>\n",
       "      <td>Paul Young</td>\n",
       "      <td>0.744</td>\n",
       "      <td>0.0883</td>\n",
       "      <td>0.0599</td>\n",
       "      <td>-11.202</td>\n",
       "      <td>0.0758</td>\n",
       "    </tr>\n",
       "    <tr>\n",
       "      <th>2</th>\n",
       "      <td>Because I Love You</td>\n",
       "      <td>Shakin' Stevens</td>\n",
       "      <td>0.587</td>\n",
       "      <td>0.2440</td>\n",
       "      <td>0.1180</td>\n",
       "      <td>-12.891</td>\n",
       "      <td>0.0255</td>\n",
       "    </tr>\n",
       "    <tr>\n",
       "      <th>3</th>\n",
       "      <td>Song For Zula</td>\n",
       "      <td>Phosphorescent</td>\n",
       "      <td>0.492</td>\n",
       "      <td>0.7290</td>\n",
       "      <td>0.0509</td>\n",
       "      <td>-8.260</td>\n",
       "      <td>0.0349</td>\n",
       "    </tr>\n",
       "    <tr>\n",
       "      <th>4</th>\n",
       "      <td>Song for Zula</td>\n",
       "      <td>Ronnie Fauss</td>\n",
       "      <td>0.506</td>\n",
       "      <td>0.7340</td>\n",
       "      <td>0.0737</td>\n",
       "      <td>-6.931</td>\n",
       "      <td>0.0246</td>\n",
       "    </tr>\n",
       "  </tbody>\n",
       "</table>\n",
       "</div>"
      ],
      "text/plain": [
       "                        name           artist  danceability  acousticness  \\\n",
       "0     I Will Always Love You  Whitney Houston         0.306        0.8440   \n",
       "1  Love of the Common People       Paul Young         0.744        0.0883   \n",
       "2         Because I Love You  Shakin' Stevens         0.587        0.2440   \n",
       "3              Song For Zula   Phosphorescent         0.492        0.7290   \n",
       "4              Song for Zula     Ronnie Fauss         0.506        0.7340   \n",
       "\n",
       "   liveness  loudness  speechiness  \n",
       "0    0.0839   -12.518       0.0356  \n",
       "1    0.0599   -11.202       0.0758  \n",
       "2    0.1180   -12.891       0.0255  \n",
       "3    0.0509    -8.260       0.0349  \n",
       "4    0.0737    -6.931       0.0246  "
      ]
     },
     "execution_count": 7,
     "metadata": {},
     "output_type": "execute_result"
    }
   ],
   "source": [
    "#Dropping unneccessary columns/data\n",
    "songs = songs.drop(['Unnamed: 0','album','energy','release_date','tempo','length','popularity','danceability.1','instrumentalness','time_signature'],axis=1)\n",
    "songs.head()"
   ]
  },
  {
   "cell_type": "code",
   "execution_count": 8,
   "metadata": {},
   "outputs": [
    {
     "data": {
      "text/html": [
       "<div>\n",
       "<style scoped>\n",
       "    .dataframe tbody tr th:only-of-type {\n",
       "        vertical-align: middle;\n",
       "    }\n",
       "\n",
       "    .dataframe tbody tr th {\n",
       "        vertical-align: top;\n",
       "    }\n",
       "\n",
       "    .dataframe thead th {\n",
       "        text-align: right;\n",
       "    }\n",
       "</style>\n",
       "<table border=\"1\" class=\"dataframe\">\n",
       "  <thead>\n",
       "    <tr style=\"text-align: right;\">\n",
       "      <th></th>\n",
       "      <th>danceability</th>\n",
       "      <th>acousticness</th>\n",
       "      <th>liveness</th>\n",
       "      <th>loudness</th>\n",
       "      <th>speechiness</th>\n",
       "    </tr>\n",
       "  </thead>\n",
       "  <tbody>\n",
       "    <tr>\n",
       "      <th>count</th>\n",
       "      <td>100.000000</td>\n",
       "      <td>100.000000</td>\n",
       "      <td>100.000000</td>\n",
       "      <td>100.000000</td>\n",
       "      <td>100.000000</td>\n",
       "    </tr>\n",
       "    <tr>\n",
       "      <th>mean</th>\n",
       "      <td>0.625380</td>\n",
       "      <td>0.298293</td>\n",
       "      <td>0.170778</td>\n",
       "      <td>-7.264860</td>\n",
       "      <td>0.081449</td>\n",
       "    </tr>\n",
       "    <tr>\n",
       "      <th>std</th>\n",
       "      <td>0.153444</td>\n",
       "      <td>0.328817</td>\n",
       "      <td>0.112697</td>\n",
       "      <td>4.239447</td>\n",
       "      <td>0.071516</td>\n",
       "    </tr>\n",
       "    <tr>\n",
       "      <th>min</th>\n",
       "      <td>0.157000</td>\n",
       "      <td>0.000688</td>\n",
       "      <td>0.050900</td>\n",
       "      <td>-23.562000</td>\n",
       "      <td>0.024600</td>\n",
       "    </tr>\n",
       "    <tr>\n",
       "      <th>25%</th>\n",
       "      <td>0.558500</td>\n",
       "      <td>0.040075</td>\n",
       "      <td>0.093475</td>\n",
       "      <td>-8.034000</td>\n",
       "      <td>0.036600</td>\n",
       "    </tr>\n",
       "    <tr>\n",
       "      <th>50%</th>\n",
       "      <td>0.660000</td>\n",
       "      <td>0.169500</td>\n",
       "      <td>0.124000</td>\n",
       "      <td>-6.004500</td>\n",
       "      <td>0.054150</td>\n",
       "    </tr>\n",
       "    <tr>\n",
       "      <th>75%</th>\n",
       "      <td>0.728250</td>\n",
       "      <td>0.535250</td>\n",
       "      <td>0.217500</td>\n",
       "      <td>-4.784000</td>\n",
       "      <td>0.091025</td>\n",
       "    </tr>\n",
       "    <tr>\n",
       "      <th>max</th>\n",
       "      <td>0.903000</td>\n",
       "      <td>0.990000</td>\n",
       "      <td>0.638000</td>\n",
       "      <td>-2.528000</td>\n",
       "      <td>0.375000</td>\n",
       "    </tr>\n",
       "  </tbody>\n",
       "</table>\n",
       "</div>"
      ],
      "text/plain": [
       "       danceability  acousticness    liveness    loudness  speechiness\n",
       "count    100.000000    100.000000  100.000000  100.000000   100.000000\n",
       "mean       0.625380      0.298293    0.170778   -7.264860     0.081449\n",
       "std        0.153444      0.328817    0.112697    4.239447     0.071516\n",
       "min        0.157000      0.000688    0.050900  -23.562000     0.024600\n",
       "25%        0.558500      0.040075    0.093475   -8.034000     0.036600\n",
       "50%        0.660000      0.169500    0.124000   -6.004500     0.054150\n",
       "75%        0.728250      0.535250    0.217500   -4.784000     0.091025\n",
       "max        0.903000      0.990000    0.638000   -2.528000     0.375000"
      ]
     },
     "execution_count": 8,
     "metadata": {},
     "output_type": "execute_result"
    }
   ],
   "source": [
    "#Describing numerical features.\n",
    "songs.describe()"
   ]
  },
  {
   "cell_type": "code",
   "execution_count": 9,
   "metadata": {
    "scrolled": true
   },
   "outputs": [
    {
     "data": {
      "text/plain": [
       "array([[<matplotlib.axes._subplots.AxesSubplot object at 0x0000029CE56004F0>,\n",
       "        <matplotlib.axes._subplots.AxesSubplot object at 0x0000029CE56289D0>],\n",
       "       [<matplotlib.axes._subplots.AxesSubplot object at 0x0000029CE5654E20>,\n",
       "        <matplotlib.axes._subplots.AxesSubplot object at 0x0000029CE568D2B0>],\n",
       "       [<matplotlib.axes._subplots.AxesSubplot object at 0x0000029CE56BB700>,\n",
       "        <matplotlib.axes._subplots.AxesSubplot object at 0x0000029CE56E7BB0>]],\n",
       "      dtype=object)"
      ]
     },
     "execution_count": 9,
     "metadata": {},
     "output_type": "execute_result"
    },
    {
     "data": {
      "image/png": "[encoded data removed]",
      "text/plain": [
       "<Figure size 1440x1080 with 6 Axes>"
      ]
     },
     "metadata": {},
     "output_type": "display_data"
    }
   ],
   "source": [
    "#Importing preprocessing from sklearn.\n",
    "#The sklearn.preprocessing package provides several common utility functions and transformer classes.\n",
    "from sklearn import preprocessing\n",
    "\n",
    "#Normalising loudness value between 0 to 1.\n",
    "loudness = songs[['loudness']].values\n",
    "min_max_scaler = preprocessing.MinMaxScaler()\n",
    "loudness_scaled = min_max_scaler.fit_transform(loudness)\n",
    "songs['loudness'] = pd.DataFrame(loudness_scaled)\n",
    "\n",
    "#plotting histogram for different features we selected.\n",
    "songs.hist(bins=50,figsize=(20,15))"
   ]
  },
  {
   "cell_type": "code",
   "execution_count": 10,
   "metadata": {},
   "outputs": [],
   "source": [
    "#Dropping song names and artist before clustering.\n",
    "songs_features = songs.copy()\n",
    "songs_features = songs_features.drop(['name','artist'],axis=1)"
   ]
  },
  {
   "cell_type": "markdown",
   "metadata": {},
   "source": [
    "*Now the Data is Prepared, will now cluster the songs and identify a mood represented by each cluster.*"
   ]
  },
  {
   "cell_type": "markdown",
   "metadata": {},
   "source": [
    "# K-Means Clustering Algorithm"
   ]
  },
  {
   "cell_type": "markdown",
   "metadata": {},
   "source": [
    "*Clustering is the process of dividing the entire data into groups (also known as clusters) based on the patterns in the data. In clustering, we do not have a target to predict. We look at the data and then try to club similar observations and form different groups. Hence it is an unsupervised learning problem.\n",
    "Using K-Means Clustering Algorithm, we can group data points into k-groups and discover emphazing patterns. To execute that it looks for a predefined number (k) of clusters. There are many ways of doing, One of the best method is the ELBOW METHOD.\n",
    "The elbow method runs k-means clustering on the dataset for a range of values for k (say from 1-10) and then for each value of k computes an average score for all clusters.*"
   ]
  },
  {
   "cell_type": "code",
   "execution_count": 11,
   "metadata": {},
   "outputs": [],
   "source": [
    "from sklearn.cluster import KMeans\n",
    "Sum_of_squared_distances = []\n",
    "K = range(1,15)\n",
    "for k in K:\n",
    "    kmeanModel = KMeans(n_clusters=k)\n",
    "    kmeanModel = kmeanModel.fit(songs_features)\n",
    "    Sum_of_squared_distances.append(kmeanModel.inertia_)"
   ]
  },
  {
   "cell_type": "code",
   "execution_count": 12,
   "metadata": {},
   "outputs": [
    {
     "name": "stdout",
     "output_type": "stream",
     "text": [
      "For n_clusters = 2, silhouette score is 0.587199598360731)\n",
      "For n_clusters = 3, silhouette score is 0.5430140962106473)\n",
      "For n_clusters = 4, silhouette score is 0.31972683321454126)\n",
      "For n_clusters = 5, silhouette score is 0.2778193856962768)\n",
      "For n_clusters = 6, silhouette score is 0.25576070524716277)\n",
      "For n_clusters = 7, silhouette score is 0.27516894762996097)\n",
      "For n_clusters = 8, silhouette score is 0.2631977667869098)\n",
      "For n_clusters = 9, silhouette score is 0.2760471085521318)\n",
      "For n_clusters = 10, silhouette score is 0.2868555335348731)\n",
      "For n_clusters = 11, silhouette score is 0.28732897221284165)\n",
      "For n_clusters = 12, silhouette score is 0.27090069364300823)\n",
      "For n_clusters = 13, silhouette score is 0.2906699517120777)\n",
      "For n_clusters = 14, silhouette score is 0.295228245747085)\n"
     ]
    }
   ],
   "source": [
    "from sklearn.metrics import silhouette_score\n",
    "for n_clusters in range(2,15):\n",
    "    clusterer = KMeans (n_clusters=n_clusters)\n",
    "    preds = clusterer.fit_predict(songs_features)\n",
    "    centers = clusterer.cluster_centers_\n",
    "\n",
    "    score = silhouette_score (songs_features, preds, metric='euclidean')\n",
    "    print (\"For n_clusters = {}, silhouette score is {})\".format(n_clusters, score))"
   ]
  },
  {
   "cell_type": "code",
   "execution_count": 13,
   "metadata": {},
   "outputs": [
    {
     "data": {
      "image/png": "[encoded data removed]",
      "text/plain": [
       "<Figure size 432x288 with 1 Axes>"
      ]
     },
     "metadata": {},
     "output_type": "display_data"
    }
   ],
   "source": [
    "#Plotting graphs for Optimal k\n",
    "plt.plot(K, Sum_of_squared_distances, 'gx-')\n",
    "plt.xlabel('k')\n",
    "plt.ylabel('Sum_of_squared_distances')\n",
    "plt.title('Elbow Method For Optimal k')\n",
    "plt.show()"
   ]
  },
  {
   "cell_type": "markdown",
   "metadata": {},
   "source": [
    "**It' visible now, when k = 4 the average squared distance to cluster centre starts to trail off remarkably. This is, our optimal k.**"
   ]
  },
  {
   "cell_type": "code",
   "execution_count": 14,
   "metadata": {},
   "outputs": [
    {
     "data": {
      "text/plain": [
       "KMeans(n_clusters=4, n_jobs=None, precompute_distances='auto')"
      ]
     },
     "execution_count": 14,
     "metadata": {},
     "output_type": "execute_result"
    }
   ],
   "source": [
    "#Making Clusters using sklearn.cluster.Kmeans\n",
    "KMeans(algorithm='auto', copy_x=True, init='k-means++', max_iter=300,\n",
    "    n_clusters=4, n_init=10, n_jobs=None, precompute_distances='auto',\n",
    "    random_state=None, tol=0.0001, verbose=0)"
   ]
  },
  {
   "cell_type": "code",
   "execution_count": 15,
   "metadata": {},
   "outputs": [],
   "source": [
    "#Principal component analysis (PCA) is a technique for reducing the dimensionality of such datasets, increasing interpretability, for visualisation.\n",
    "from sklearn.decomposition import PCA\n",
    "kmeans = KMeans(n_clusters=4)\n",
    "kmeans.fit(songs_features)\n",
    "y_kmeans = kmeans.predict(songs_features)\n",
    "pca = PCA(n_components=2)\n",
    "principal_components = pca.fit_transform(songs_features)"
   ]
  },
  {
   "cell_type": "code",
   "execution_count": 16,
   "metadata": {},
   "outputs": [
    {
     "data": {
      "image/png": "[encoded data removed]",
      "text/plain": [
       "<Figure size 401.625x360 with 1 Axes>"
      ]
     },
     "metadata": {},
     "output_type": "display_data"
    }
   ],
   "source": [
    "pc = pd.DataFrame(principal_components)\n",
    "pc['label'] = y_kmeans\n",
    "pc.columns = ['x', 'y','label']\n",
    "\n",
    "#Plotting data with seaborn\n",
    "cluster = sns.lmplot(data=pc, x='x', y='y', hue='label', \n",
    "                   fit_reg=False, legend=True, legend_out=True)"
   ]
  },
  {
   "cell_type": "code",
   "execution_count": 17,
   "metadata": {},
   "outputs": [],
   "source": [
    "#Distributed Stochastic Neighbor Embedding (t-SNE) is a technique for dimensionality reduction that is particularly well suited for the visualization of high-dimensional datasets.\n",
    "from sklearn.manifold import TSNE \n",
    "\n",
    "#T-SNE with two dimensions\n",
    "tsne = TSNE(n_components=2, perplexity=50)\n",
    "\n",
    "tsne_components = tsne.fit_transform(songs_features)"
   ]
  },
  {
   "cell_type": "code",
   "execution_count": 18,
   "metadata": {},
   "outputs": [
    {
     "data": {
      "image/png": "[encoded data removed]",
      "text/plain": [
       "<Figure size 401.625x360 with 1 Axes>"
      ]
     },
     "metadata": {},
     "output_type": "display_data"
    }
   ],
   "source": [
    "ts = pd.DataFrame(tsne_components)\n",
    "ts['label'] = y_kmeans\n",
    "ts.columns = ['x', 'y','label']\n",
    "\n",
    "#plot data with seaborn\n",
    "cluster = sns.lmplot(data=ts, x='x', y='y', hue='label', \n",
    "                   fit_reg=False, legend=True, legend_out=True)"
   ]
  },
  {
   "cell_type": "code",
   "execution_count": 19,
   "metadata": {},
   "outputs": [
    {
     "data": {
      "text/plain": [
       "array([0.73646499, 0.09879449])"
      ]
     },
     "execution_count": 19,
     "metadata": {},
     "output_type": "execute_result"
    }
   ],
   "source": [
    "pca.explained_variance_ratio_"
   ]
  },
  {
   "cell_type": "markdown",
   "metadata": {},
   "source": [
    "**The explained variance tells you how much information (variance) can be attributed to each of the principal components.**"
   ]
  },
  {
   "cell_type": "markdown",
   "metadata": {},
   "source": [
    "# Exploring each of the 4 clusters and see what songs they contain."
   ]
  },
  {
   "cell_type": "code",
   "execution_count": 20,
   "metadata": {},
   "outputs": [
    {
     "data": {
      "text/plain": [
       "0    48\n",
       "3    29\n",
       "1    16\n",
       "2     7\n",
       "Name: label, dtype: int64"
      ]
     },
     "execution_count": 20,
     "metadata": {},
     "output_type": "execute_result"
    }
   ],
   "source": [
    "songs['label'] = y_kmeans\n",
    "\n",
    "#Shuffling the dataset\n",
    "\n",
    "songs = songs.sample(frac=1)\n",
    "songs['label'].value_counts()"
   ]
  },
  {
   "cell_type": "markdown",
   "metadata": {},
   "source": [
    "**Assigning the mood to each cluster at the songs within them and identifying the emotions that I associate with majority of songs in a cluster.**"
   ]
  },
  {
   "cell_type": "code",
   "execution_count": 21,
   "metadata": {},
   "outputs": [
    {
     "data": {
      "text/html": [
       "<div>\n",
       "<style scoped>\n",
       "    .dataframe tbody tr th:only-of-type {\n",
       "        vertical-align: middle;\n",
       "    }\n",
       "\n",
       "    .dataframe tbody tr th {\n",
       "        vertical-align: top;\n",
       "    }\n",
       "\n",
       "    .dataframe thead th {\n",
       "        text-align: right;\n",
       "    }\n",
       "</style>\n",
       "<table border=\"1\" class=\"dataframe\">\n",
       "  <thead>\n",
       "    <tr style=\"text-align: right;\">\n",
       "      <th></th>\n",
       "      <th>name</th>\n",
       "      <th>artist</th>\n",
       "      <th>danceability</th>\n",
       "      <th>acousticness</th>\n",
       "      <th>liveness</th>\n",
       "      <th>loudness</th>\n",
       "      <th>speechiness</th>\n",
       "      <th>label</th>\n",
       "    </tr>\n",
       "  </thead>\n",
       "  <tbody>\n",
       "    <tr>\n",
       "      <th>12</th>\n",
       "      <td>Boy With Luv (feat. Halsey)</td>\n",
       "      <td>BTS</td>\n",
       "      <td>0.645</td>\n",
       "      <td>0.092300</td>\n",
       "      <td>0.1920</td>\n",
       "      <td>0.894029</td>\n",
       "      <td>0.0965</td>\n",
       "      <td>0</td>\n",
       "    </tr>\n",
       "    <tr>\n",
       "      <th>18</th>\n",
       "      <td>Criminal</td>\n",
       "      <td>Britney Spears</td>\n",
       "      <td>0.696</td>\n",
       "      <td>0.048500</td>\n",
       "      <td>0.1830</td>\n",
       "      <td>0.868499</td>\n",
       "      <td>0.0298</td>\n",
       "      <td>0</td>\n",
       "    </tr>\n",
       "    <tr>\n",
       "      <th>51</th>\n",
       "      <td>Boyfriend</td>\n",
       "      <td>Justin Bieber</td>\n",
       "      <td>0.717</td>\n",
       "      <td>0.035800</td>\n",
       "      <td>0.1260</td>\n",
       "      <td>0.834031</td>\n",
       "      <td>0.0521</td>\n",
       "      <td>0</td>\n",
       "    </tr>\n",
       "    <tr>\n",
       "      <th>39</th>\n",
       "      <td>Say So (feat. Nicki Minaj)</td>\n",
       "      <td>Doja Cat</td>\n",
       "      <td>0.856</td>\n",
       "      <td>0.119000</td>\n",
       "      <td>0.4270</td>\n",
       "      <td>0.899591</td>\n",
       "      <td>0.2040</td>\n",
       "      <td>0</td>\n",
       "    </tr>\n",
       "    <tr>\n",
       "      <th>49</th>\n",
       "      <td>Make You Mine</td>\n",
       "      <td>PUBLIC</td>\n",
       "      <td>0.606</td>\n",
       "      <td>0.012800</td>\n",
       "      <td>0.1500</td>\n",
       "      <td>0.908529</td>\n",
       "      <td>0.0261</td>\n",
       "      <td>0</td>\n",
       "    </tr>\n",
       "    <tr>\n",
       "      <th>91</th>\n",
       "      <td>Thinking Bout You</td>\n",
       "      <td>Ariana Grande</td>\n",
       "      <td>0.505</td>\n",
       "      <td>0.016400</td>\n",
       "      <td>0.1210</td>\n",
       "      <td>0.831131</td>\n",
       "      <td>0.0584</td>\n",
       "      <td>0</td>\n",
       "    </tr>\n",
       "    <tr>\n",
       "      <th>67</th>\n",
       "      <td>no tears left to cry</td>\n",
       "      <td>Ariana Grande</td>\n",
       "      <td>0.699</td>\n",
       "      <td>0.040000</td>\n",
       "      <td>0.2940</td>\n",
       "      <td>0.858372</td>\n",
       "      <td>0.0594</td>\n",
       "      <td>0</td>\n",
       "    </tr>\n",
       "    <tr>\n",
       "      <th>55</th>\n",
       "      <td>Beauty And A Beat</td>\n",
       "      <td>Justin Bieber</td>\n",
       "      <td>0.602</td>\n",
       "      <td>0.000688</td>\n",
       "      <td>0.0682</td>\n",
       "      <td>0.890511</td>\n",
       "      <td>0.0593</td>\n",
       "      <td>0</td>\n",
       "    </tr>\n",
       "    <tr>\n",
       "      <th>69</th>\n",
       "      <td>2002</td>\n",
       "      <td>Anne-Marie</td>\n",
       "      <td>0.697</td>\n",
       "      <td>0.037200</td>\n",
       "      <td>0.1370</td>\n",
       "      <td>0.983218</td>\n",
       "      <td>0.1170</td>\n",
       "      <td>0</td>\n",
       "    </tr>\n",
       "    <tr>\n",
       "      <th>57</th>\n",
       "      <td>Company</td>\n",
       "      <td>Justin Bieber</td>\n",
       "      <td>0.590</td>\n",
       "      <td>0.132000</td>\n",
       "      <td>0.0846</td>\n",
       "      <td>0.887183</td>\n",
       "      <td>0.0614</td>\n",
       "      <td>0</td>\n",
       "    </tr>\n",
       "  </tbody>\n",
       "</table>\n",
       "</div>"
      ],
      "text/plain": [
       "                           name          artist  danceability  acousticness  \\\n",
       "12  Boy With Luv (feat. Halsey)             BTS         0.645      0.092300   \n",
       "18                     Criminal  Britney Spears         0.696      0.048500   \n",
       "51                    Boyfriend   Justin Bieber         0.717      0.035800   \n",
       "39   Say So (feat. Nicki Minaj)        Doja Cat         0.856      0.119000   \n",
       "49                Make You Mine          PUBLIC         0.606      0.012800   \n",
       "91            Thinking Bout You   Ariana Grande         0.505      0.016400   \n",
       "67         no tears left to cry   Ariana Grande         0.699      0.040000   \n",
       "55            Beauty And A Beat   Justin Bieber         0.602      0.000688   \n",
       "69                         2002      Anne-Marie         0.697      0.037200   \n",
       "57                      Company   Justin Bieber         0.590      0.132000   \n",
       "\n",
       "    liveness  loudness  speechiness  label  \n",
       "12    0.1920  0.894029       0.0965      0  \n",
       "18    0.1830  0.868499       0.0298      0  \n",
       "51    0.1260  0.834031       0.0521      0  \n",
       "39    0.4270  0.899591       0.2040      0  \n",
       "49    0.1500  0.908529       0.0261      0  \n",
       "91    0.1210  0.831131       0.0584      0  \n",
       "67    0.2940  0.858372       0.0594      0  \n",
       "55    0.0682  0.890511       0.0593      0  \n",
       "69    0.1370  0.983218       0.1170      0  \n",
       "57    0.0846  0.887183       0.0614      0  "
      ]
     },
     "execution_count": 21,
     "metadata": {},
     "output_type": "execute_result"
    }
   ],
   "source": [
    "#MOOD LABEL: CHILL MOOD\n",
    "songs[songs['label'] == 0].tail(10)"
   ]
  },
  {
   "cell_type": "code",
   "execution_count": 22,
   "metadata": {},
   "outputs": [
    {
     "data": {
      "text/html": [
       "<div>\n",
       "<style scoped>\n",
       "    .dataframe tbody tr th:only-of-type {\n",
       "        vertical-align: middle;\n",
       "    }\n",
       "\n",
       "    .dataframe tbody tr th {\n",
       "        vertical-align: top;\n",
       "    }\n",
       "\n",
       "    .dataframe thead th {\n",
       "        text-align: right;\n",
       "    }\n",
       "</style>\n",
       "<table border=\"1\" class=\"dataframe\">\n",
       "  <thead>\n",
       "    <tr style=\"text-align: right;\">\n",
       "      <th></th>\n",
       "      <th>name</th>\n",
       "      <th>artist</th>\n",
       "      <th>danceability</th>\n",
       "      <th>acousticness</th>\n",
       "      <th>liveness</th>\n",
       "      <th>loudness</th>\n",
       "      <th>speechiness</th>\n",
       "      <th>label</th>\n",
       "    </tr>\n",
       "  </thead>\n",
       "  <tbody>\n",
       "    <tr>\n",
       "      <th>79</th>\n",
       "      <td>Eastside (with Halsey &amp; Khalid)</td>\n",
       "      <td>benny blanco</td>\n",
       "      <td>0.560</td>\n",
       "      <td>0.555</td>\n",
       "      <td>0.1160</td>\n",
       "      <td>0.756585</td>\n",
       "      <td>0.3210</td>\n",
       "      <td>1</td>\n",
       "    </tr>\n",
       "    <tr>\n",
       "      <th>48</th>\n",
       "      <td>Memories</td>\n",
       "      <td>Maroon 5</td>\n",
       "      <td>0.764</td>\n",
       "      <td>0.837</td>\n",
       "      <td>0.0822</td>\n",
       "      <td>0.777456</td>\n",
       "      <td>0.0546</td>\n",
       "      <td>1</td>\n",
       "    </tr>\n",
       "    <tr>\n",
       "      <th>95</th>\n",
       "      <td>I Don't Care</td>\n",
       "      <td>Ariana Grande</td>\n",
       "      <td>0.585</td>\n",
       "      <td>0.773</td>\n",
       "      <td>0.1530</td>\n",
       "      <td>0.724684</td>\n",
       "      <td>0.0412</td>\n",
       "      <td>1</td>\n",
       "    </tr>\n",
       "    <tr>\n",
       "      <th>35</th>\n",
       "      <td>This Town</td>\n",
       "      <td>Niall Horan</td>\n",
       "      <td>0.677</td>\n",
       "      <td>0.712</td>\n",
       "      <td>0.1160</td>\n",
       "      <td>0.717648</td>\n",
       "      <td>0.0308</td>\n",
       "      <td>1</td>\n",
       "    </tr>\n",
       "    <tr>\n",
       "      <th>98</th>\n",
       "      <td>Leave Me Lonely</td>\n",
       "      <td>Ariana Grande</td>\n",
       "      <td>0.445</td>\n",
       "      <td>0.599</td>\n",
       "      <td>0.3390</td>\n",
       "      <td>0.765142</td>\n",
       "      <td>0.0312</td>\n",
       "      <td>1</td>\n",
       "    </tr>\n",
       "    <tr>\n",
       "      <th>87</th>\n",
       "      <td>My Everything</td>\n",
       "      <td>Ariana Grande</td>\n",
       "      <td>0.540</td>\n",
       "      <td>0.880</td>\n",
       "      <td>0.1310</td>\n",
       "      <td>0.867881</td>\n",
       "      <td>0.0297</td>\n",
       "      <td>1</td>\n",
       "    </tr>\n",
       "    <tr>\n",
       "      <th>65</th>\n",
       "      <td>All of Me</td>\n",
       "      <td>John Legend</td>\n",
       "      <td>0.422</td>\n",
       "      <td>0.922</td>\n",
       "      <td>0.1320</td>\n",
       "      <td>0.784349</td>\n",
       "      <td>0.0322</td>\n",
       "      <td>1</td>\n",
       "    </tr>\n",
       "    <tr>\n",
       "      <th>0</th>\n",
       "      <td>I Will Always Love You</td>\n",
       "      <td>Whitney Houston</td>\n",
       "      <td>0.306</td>\n",
       "      <td>0.844</td>\n",
       "      <td>0.0839</td>\n",
       "      <td>0.525055</td>\n",
       "      <td>0.0356</td>\n",
       "      <td>1</td>\n",
       "    </tr>\n",
       "    <tr>\n",
       "      <th>6</th>\n",
       "      <td>The Night We Met</td>\n",
       "      <td>Lord Huron</td>\n",
       "      <td>0.443</td>\n",
       "      <td>0.969</td>\n",
       "      <td>0.6380</td>\n",
       "      <td>0.667871</td>\n",
       "      <td>0.0441</td>\n",
       "      <td>1</td>\n",
       "    </tr>\n",
       "    <tr>\n",
       "      <th>3</th>\n",
       "      <td>Song For Zula</td>\n",
       "      <td>Phosphorescent</td>\n",
       "      <td>0.492</td>\n",
       "      <td>0.729</td>\n",
       "      <td>0.0509</td>\n",
       "      <td>0.727489</td>\n",
       "      <td>0.0349</td>\n",
       "      <td>1</td>\n",
       "    </tr>\n",
       "  </tbody>\n",
       "</table>\n",
       "</div>"
      ],
      "text/plain": [
       "                               name           artist  danceability  \\\n",
       "79  Eastside (with Halsey & Khalid)     benny blanco         0.560   \n",
       "48                         Memories         Maroon 5         0.764   \n",
       "95                     I Don't Care    Ariana Grande         0.585   \n",
       "35                        This Town      Niall Horan         0.677   \n",
       "98                  Leave Me Lonely    Ariana Grande         0.445   \n",
       "87                    My Everything    Ariana Grande         0.540   \n",
       "65                        All of Me      John Legend         0.422   \n",
       "0            I Will Always Love You  Whitney Houston         0.306   \n",
       "6                  The Night We Met       Lord Huron         0.443   \n",
       "3                     Song For Zula   Phosphorescent         0.492   \n",
       "\n",
       "    acousticness  liveness  loudness  speechiness  label  \n",
       "79         0.555    0.1160  0.756585       0.3210      1  \n",
       "48         0.837    0.0822  0.777456       0.0546      1  \n",
       "95         0.773    0.1530  0.724684       0.0412      1  \n",
       "35         0.712    0.1160  0.717648       0.0308      1  \n",
       "98         0.599    0.3390  0.765142       0.0312      1  \n",
       "87         0.880    0.1310  0.867881       0.0297      1  \n",
       "65         0.922    0.1320  0.784349       0.0322      1  \n",
       "0          0.844    0.0839  0.525055       0.0356      1  \n",
       "6          0.969    0.6380  0.667871       0.0441      1  \n",
       "3          0.729    0.0509  0.727489       0.0349      1  "
      ]
     },
     "execution_count": 22,
     "metadata": {},
     "output_type": "execute_result"
    }
   ],
   "source": [
    "#MOOD LABEL: CHEERFUL MOOD\n",
    "songs[songs['label'] == 1].tail(10)"
   ]
  },
  {
   "cell_type": "code",
   "execution_count": 23,
   "metadata": {},
   "outputs": [
    {
     "data": {
      "text/html": [
       "<div>\n",
       "<style scoped>\n",
       "    .dataframe tbody tr th:only-of-type {\n",
       "        vertical-align: middle;\n",
       "    }\n",
       "\n",
       "    .dataframe tbody tr th {\n",
       "        vertical-align: top;\n",
       "    }\n",
       "\n",
       "    .dataframe thead th {\n",
       "        text-align: right;\n",
       "    }\n",
       "</style>\n",
       "<table border=\"1\" class=\"dataframe\">\n",
       "  <thead>\n",
       "    <tr style=\"text-align: right;\">\n",
       "      <th></th>\n",
       "      <th>name</th>\n",
       "      <th>artist</th>\n",
       "      <th>danceability</th>\n",
       "      <th>acousticness</th>\n",
       "      <th>liveness</th>\n",
       "      <th>loudness</th>\n",
       "      <th>speechiness</th>\n",
       "      <th>label</th>\n",
       "    </tr>\n",
       "  </thead>\n",
       "  <tbody>\n",
       "    <tr>\n",
       "      <th>46</th>\n",
       "      <td>Kiss the Rain</td>\n",
       "      <td>Yiruma</td>\n",
       "      <td>0.557</td>\n",
       "      <td>0.990</td>\n",
       "      <td>0.1450</td>\n",
       "      <td>0.242702</td>\n",
       "      <td>0.0542</td>\n",
       "      <td>2</td>\n",
       "    </tr>\n",
       "    <tr>\n",
       "      <th>44</th>\n",
       "      <td>Kiss The Rain</td>\n",
       "      <td>Yiruma</td>\n",
       "      <td>0.559</td>\n",
       "      <td>0.990</td>\n",
       "      <td>0.1170</td>\n",
       "      <td>0.044975</td>\n",
       "      <td>0.0423</td>\n",
       "      <td>2</td>\n",
       "    </tr>\n",
       "    <tr>\n",
       "      <th>45</th>\n",
       "      <td>River Flows in You</td>\n",
       "      <td>Yiruma</td>\n",
       "      <td>0.287</td>\n",
       "      <td>0.968</td>\n",
       "      <td>0.0900</td>\n",
       "      <td>0.203337</td>\n",
       "      <td>0.0541</td>\n",
       "      <td>2</td>\n",
       "    </tr>\n",
       "    <tr>\n",
       "      <th>43</th>\n",
       "      <td>River Flows In You</td>\n",
       "      <td>Yiruma</td>\n",
       "      <td>0.314</td>\n",
       "      <td>0.987</td>\n",
       "      <td>0.0802</td>\n",
       "      <td>0.105496</td>\n",
       "      <td>0.0514</td>\n",
       "      <td>2</td>\n",
       "    </tr>\n",
       "    <tr>\n",
       "      <th>8</th>\n",
       "      <td>My Heart Will Go On - Love Theme from \"Titanic\"</td>\n",
       "      <td>James Horner</td>\n",
       "      <td>0.157</td>\n",
       "      <td>0.801</td>\n",
       "      <td>0.1260</td>\n",
       "      <td>0.161928</td>\n",
       "      <td>0.0360</td>\n",
       "      <td>2</td>\n",
       "    </tr>\n",
       "    <tr>\n",
       "      <th>29</th>\n",
       "      <td>Memories</td>\n",
       "      <td>Ryan L Stewart</td>\n",
       "      <td>0.534</td>\n",
       "      <td>0.969</td>\n",
       "      <td>0.0780</td>\n",
       "      <td>0.342826</td>\n",
       "      <td>0.0353</td>\n",
       "      <td>2</td>\n",
       "    </tr>\n",
       "    <tr>\n",
       "      <th>42</th>\n",
       "      <td>Braille</td>\n",
       "      <td>Jan A.P. Kaczmarek</td>\n",
       "      <td>0.183</td>\n",
       "      <td>0.943</td>\n",
       "      <td>0.0931</td>\n",
       "      <td>0.000000</td>\n",
       "      <td>0.0397</td>\n",
       "      <td>2</td>\n",
       "    </tr>\n",
       "  </tbody>\n",
       "</table>\n",
       "</div>"
      ],
      "text/plain": [
       "                                               name              artist  \\\n",
       "46                                    Kiss the Rain              Yiruma   \n",
       "44                                    Kiss The Rain              Yiruma   \n",
       "45                               River Flows in You              Yiruma   \n",
       "43                               River Flows In You              Yiruma   \n",
       "8   My Heart Will Go On - Love Theme from \"Titanic\"        James Horner   \n",
       "29                                         Memories      Ryan L Stewart   \n",
       "42                                          Braille  Jan A.P. Kaczmarek   \n",
       "\n",
       "    danceability  acousticness  liveness  loudness  speechiness  label  \n",
       "46         0.557         0.990    0.1450  0.242702       0.0542      2  \n",
       "44         0.559         0.990    0.1170  0.044975       0.0423      2  \n",
       "45         0.287         0.968    0.0900  0.203337       0.0541      2  \n",
       "43         0.314         0.987    0.0802  0.105496       0.0514      2  \n",
       "8          0.157         0.801    0.1260  0.161928       0.0360      2  \n",
       "29         0.534         0.969    0.0780  0.342826       0.0353      2  \n",
       "42         0.183         0.943    0.0931  0.000000       0.0397      2  "
      ]
     },
     "execution_count": 23,
     "metadata": {},
     "output_type": "execute_result"
    }
   ],
   "source": [
    "#MOOD LABEL: ENERGETIC MOOD\n",
    "songs[songs['label'] == 2].tail(10)"
   ]
  },
  {
   "cell_type": "code",
   "execution_count": 24,
   "metadata": {},
   "outputs": [
    {
     "data": {
      "text/html": [
       "<div>\n",
       "<style scoped>\n",
       "    .dataframe tbody tr th:only-of-type {\n",
       "        vertical-align: middle;\n",
       "    }\n",
       "\n",
       "    .dataframe tbody tr th {\n",
       "        vertical-align: top;\n",
       "    }\n",
       "\n",
       "    .dataframe thead th {\n",
       "        text-align: right;\n",
       "    }\n",
       "</style>\n",
       "<table border=\"1\" class=\"dataframe\">\n",
       "  <thead>\n",
       "    <tr style=\"text-align: right;\">\n",
       "      <th></th>\n",
       "      <th>name</th>\n",
       "      <th>artist</th>\n",
       "      <th>danceability</th>\n",
       "      <th>acousticness</th>\n",
       "      <th>liveness</th>\n",
       "      <th>loudness</th>\n",
       "      <th>speechiness</th>\n",
       "      <th>label</th>\n",
       "    </tr>\n",
       "  </thead>\n",
       "  <tbody>\n",
       "    <tr>\n",
       "      <th>90</th>\n",
       "      <td>Bang Bang</td>\n",
       "      <td>Jessie J</td>\n",
       "      <td>0.707</td>\n",
       "      <td>0.269</td>\n",
       "      <td>0.3770</td>\n",
       "      <td>0.910954</td>\n",
       "      <td>0.0885</td>\n",
       "      <td>3</td>\n",
       "    </tr>\n",
       "    <tr>\n",
       "      <th>40</th>\n",
       "      <td>Broken Angel</td>\n",
       "      <td>Arash</td>\n",
       "      <td>0.659</td>\n",
       "      <td>0.264</td>\n",
       "      <td>0.0994</td>\n",
       "      <td>0.835409</td>\n",
       "      <td>0.0252</td>\n",
       "      <td>3</td>\n",
       "    </tr>\n",
       "    <tr>\n",
       "      <th>62</th>\n",
       "      <td>Love Me Like You Do - From \"Fifty Shades Of Grey\"</td>\n",
       "      <td>Ellie Goulding</td>\n",
       "      <td>0.262</td>\n",
       "      <td>0.247</td>\n",
       "      <td>0.1250</td>\n",
       "      <td>0.804222</td>\n",
       "      <td>0.0484</td>\n",
       "      <td>3</td>\n",
       "    </tr>\n",
       "    <tr>\n",
       "      <th>86</th>\n",
       "      <td>Bang Bang</td>\n",
       "      <td>Ariana Grande</td>\n",
       "      <td>0.703</td>\n",
       "      <td>0.283</td>\n",
       "      <td>0.3960</td>\n",
       "      <td>0.908814</td>\n",
       "      <td>0.0895</td>\n",
       "      <td>3</td>\n",
       "    </tr>\n",
       "    <tr>\n",
       "      <th>71</th>\n",
       "      <td>Havana (feat. Young Thug)</td>\n",
       "      <td>Camila Cabello</td>\n",
       "      <td>0.765</td>\n",
       "      <td>0.184</td>\n",
       "      <td>0.1320</td>\n",
       "      <td>0.914187</td>\n",
       "      <td>0.0300</td>\n",
       "      <td>3</td>\n",
       "    </tr>\n",
       "    <tr>\n",
       "      <th>75</th>\n",
       "      <td>Hurts Like Hell (feat. Offset)</td>\n",
       "      <td>Madison Beer</td>\n",
       "      <td>0.704</td>\n",
       "      <td>0.185</td>\n",
       "      <td>0.0948</td>\n",
       "      <td>0.797328</td>\n",
       "      <td>0.1790</td>\n",
       "      <td>3</td>\n",
       "    </tr>\n",
       "    <tr>\n",
       "      <th>81</th>\n",
       "      <td>Havana - Remix</td>\n",
       "      <td>Camila Cabello</td>\n",
       "      <td>0.751</td>\n",
       "      <td>0.398</td>\n",
       "      <td>0.1330</td>\n",
       "      <td>0.928307</td>\n",
       "      <td>0.0321</td>\n",
       "      <td>3</td>\n",
       "    </tr>\n",
       "    <tr>\n",
       "      <th>10</th>\n",
       "      <td>Love Me Like You</td>\n",
       "      <td>Little Mix</td>\n",
       "      <td>0.785</td>\n",
       "      <td>0.208</td>\n",
       "      <td>0.2850</td>\n",
       "      <td>0.933061</td>\n",
       "      <td>0.0430</td>\n",
       "      <td>3</td>\n",
       "    </tr>\n",
       "    <tr>\n",
       "      <th>27</th>\n",
       "      <td>Address It</td>\n",
       "      <td>LPB Poody</td>\n",
       "      <td>0.903</td>\n",
       "      <td>0.109</td>\n",
       "      <td>0.0904</td>\n",
       "      <td>0.739565</td>\n",
       "      <td>0.2680</td>\n",
       "      <td>3</td>\n",
       "    </tr>\n",
       "    <tr>\n",
       "      <th>47</th>\n",
       "      <td>Say So</td>\n",
       "      <td>Doja Cat</td>\n",
       "      <td>0.787</td>\n",
       "      <td>0.256</td>\n",
       "      <td>0.0904</td>\n",
       "      <td>0.902586</td>\n",
       "      <td>0.1580</td>\n",
       "      <td>3</td>\n",
       "    </tr>\n",
       "  </tbody>\n",
       "</table>\n",
       "</div>"
      ],
      "text/plain": [
       "                                                 name          artist  \\\n",
       "90                                          Bang Bang        Jessie J   \n",
       "40                                       Broken Angel           Arash   \n",
       "62  Love Me Like You Do - From \"Fifty Shades Of Grey\"  Ellie Goulding   \n",
       "86                                          Bang Bang   Ariana Grande   \n",
       "71                          Havana (feat. Young Thug)  Camila Cabello   \n",
       "75                     Hurts Like Hell (feat. Offset)    Madison Beer   \n",
       "81                                     Havana - Remix  Camila Cabello   \n",
       "10                                   Love Me Like You      Little Mix   \n",
       "27                                         Address It       LPB Poody   \n",
       "47                                             Say So        Doja Cat   \n",
       "\n",
       "    danceability  acousticness  liveness  loudness  speechiness  label  \n",
       "90         0.707         0.269    0.3770  0.910954       0.0885      3  \n",
       "40         0.659         0.264    0.0994  0.835409       0.0252      3  \n",
       "62         0.262         0.247    0.1250  0.804222       0.0484      3  \n",
       "86         0.703         0.283    0.3960  0.908814       0.0895      3  \n",
       "71         0.765         0.184    0.1320  0.914187       0.0300      3  \n",
       "75         0.704         0.185    0.0948  0.797328       0.1790      3  \n",
       "81         0.751         0.398    0.1330  0.928307       0.0321      3  \n",
       "10         0.785         0.208    0.2850  0.933061       0.0430      3  \n",
       "27         0.903         0.109    0.0904  0.739565       0.2680      3  \n",
       "47         0.787         0.256    0.0904  0.902586       0.1580      3  "
      ]
     },
     "execution_count": 24,
     "metadata": {},
     "output_type": "execute_result"
    }
   ],
   "source": [
    "#MOOD LABEL: ROMANTIC MOOD\n",
    "songs[songs['label'] == 3].tail(10)"
   ]
  },
  {
   "cell_type": "markdown",
   "metadata": {},
   "source": [
    "**Plotting histogram for each cluster based on their features that we have choosed**"
   ]
  },
  {
   "cell_type": "code",
   "execution_count": 25,
   "metadata": {},
   "outputs": [
    {
     "data": {
      "text/plain": [
       "array([[<matplotlib.axes._subplots.AxesSubplot object at 0x0000029CE59D7370>,\n",
       "        <matplotlib.axes._subplots.AxesSubplot object at 0x0000029CE5AC2640>],\n",
       "       [<matplotlib.axes._subplots.AxesSubplot object at 0x0000029CE5AEDA90>,\n",
       "        <matplotlib.axes._subplots.AxesSubplot object at 0x0000029CE5B1AEE0>],\n",
       "       [<matplotlib.axes._subplots.AxesSubplot object at 0x0000029CE5B51370>,\n",
       "        <matplotlib.axes._subplots.AxesSubplot object at 0x0000029CE5B7D700>]],\n",
       "      dtype=object)"
      ]
     },
     "execution_count": 25,
     "metadata": {},
     "output_type": "execute_result"
    },
    {
     "data": {
      "image/png": "[encoded data removed]",
      "text/plain": [
       "<Figure size 432x288 with 6 Axes>"
      ]
     },
     "metadata": {},
     "output_type": "display_data"
    }
   ],
   "source": [
    "songs[songs['label']==0].hist()"
   ]
  },
  {
   "cell_type": "code",
   "execution_count": 26,
   "metadata": {},
   "outputs": [
    {
     "data": {
      "text/plain": [
       "array([[<matplotlib.axes._subplots.AxesSubplot object at 0x0000029CE5BEEFA0>,\n",
       "        <matplotlib.axes._subplots.AxesSubplot object at 0x0000029CE5CBC730>],\n",
       "       [<matplotlib.axes._subplots.AxesSubplot object at 0x0000029CE5CE8B80>,\n",
       "        <matplotlib.axes._subplots.AxesSubplot object at 0x0000029CE5D15FD0>],\n",
       "       [<matplotlib.axes._subplots.AxesSubplot object at 0x0000029CE5D4E460>,\n",
       "        <matplotlib.axes._subplots.AxesSubplot object at 0x0000029CE5D787F0>]],\n",
       "      dtype=object)"
      ]
     },
     "execution_count": 26,
     "metadata": {},
     "output_type": "execute_result"
    },
    {
     "data": {
      "image/png": "[encoded data removed]",
      "text/plain": [
       "<Figure size 432x288 with 6 Axes>"
      ]
     },
     "metadata": {},
     "output_type": "display_data"
    }
   ],
   "source": [
    "songs[songs['label']==1].hist()"
   ]
  },
  {
   "cell_type": "code",
   "execution_count": 27,
   "metadata": {},
   "outputs": [
    {
     "data": {
      "text/plain": [
       "array([[<matplotlib.axes._subplots.AxesSubplot object at 0x0000029CE5E98BB0>,\n",
       "        <matplotlib.axes._subplots.AxesSubplot object at 0x0000029CE5B51FA0>],\n",
       "       [<matplotlib.axes._subplots.AxesSubplot object at 0x0000029CE5CE8C70>,\n",
       "        <matplotlib.axes._subplots.AxesSubplot object at 0x0000029CE5D55400>],\n",
       "       [<matplotlib.axes._subplots.AxesSubplot object at 0x0000029CE5A1FCA0>,\n",
       "        <matplotlib.axes._subplots.AxesSubplot object at 0x0000029CE59D1F70>]],\n",
       "      dtype=object)"
      ]
     },
     "execution_count": 27,
     "metadata": {},
     "output_type": "execute_result"
    },
    {
     "data": {
      "image/png": "[encoded data removed]",
      "text/plain": [
       "<Figure size 432x288 with 6 Axes>"
      ]
     },
     "metadata": {},
     "output_type": "display_data"
    }
   ],
   "source": [
    "songs[songs['label']==2].hist()"
   ]
  },
  {
   "cell_type": "code",
   "execution_count": 28,
   "metadata": {},
   "outputs": [
    {
     "data": {
      "text/plain": [
       "array([[<matplotlib.axes._subplots.AxesSubplot object at 0x0000029CE82AECA0>,\n",
       "        <matplotlib.axes._subplots.AxesSubplot object at 0x0000029CE5FA2850>],\n",
       "       [<matplotlib.axes._subplots.AxesSubplot object at 0x0000029CE82FD5E0>,\n",
       "        <matplotlib.axes._subplots.AxesSubplot object at 0x0000029CE8329A30>],\n",
       "       [<matplotlib.axes._subplots.AxesSubplot object at 0x0000029CE8356E80>,\n",
       "        <matplotlib.axes._subplots.AxesSubplot object at 0x0000029CE838F250>]],\n",
       "      dtype=object)"
      ]
     },
     "execution_count": 28,
     "metadata": {},
     "output_type": "execute_result"
    },
    {
     "data": {
      "image/png": "[encoded data removed]",
      "text/plain": [
       "<Figure size 432x288 with 6 Axes>"
      ]
     },
     "metadata": {},
     "output_type": "display_data"
    }
   ],
   "source": [
    "songs[songs['label']==3].hist()"
   ]
  },
  {
   "cell_type": "markdown",
   "metadata": {},
   "source": [
    "# Using Classifier's: Random Forest, Knn, SVM And MLP Classifier."
   ]
  },
  {
   "cell_type": "markdown",
   "metadata": {},
   "source": [
    "*Classifier will handle the missing values and maintain the accuracy of a large proportion of data.*"
   ]
  },
  {
   "cell_type": "code",
   "execution_count": 43,
   "metadata": {},
   "outputs": [
    {
     "data": {
      "text/plain": [
       "RandomForestClassifier()"
      ]
     },
     "execution_count": 43,
     "metadata": {},
     "output_type": "execute_result"
    }
   ],
   "source": [
    "from sklearn.ensemble import RandomForestClassifier\n",
    "from sklearn.model_selection import train_test_split\n",
    "from sklearn.model_selection import cross_val_score\n",
    "from sklearn.metrics import classification_report, confusion_matrix\n",
    "from sklearn.utils.multiclass import unique_labels\n",
    "\n",
    "X = songs_features\n",
    "y = y_kmeans\n",
    "\n",
    "#Splitting Dataset into Training Set and Test Set.\n",
    "X_train, X_test, y_train, y_test = train_test_split(X, y, test_size=0.33)\n",
    "\n",
    "rfc = RandomForestClassifier(n_estimators=100,criterion='gini')\n",
    "rfc.fit(X_train,y_train)"
   ]
  },
  {
   "cell_type": "code",
   "execution_count": 44,
   "metadata": {},
   "outputs": [],
   "source": [
    "# Predicting the Test set results\n",
    "y_pred = rfc.predict(X_test)"
   ]
  },
  {
   "cell_type": "markdown",
   "metadata": {},
   "source": [
    "*Confusion matrix: A confusion matrix is a table that is often used to describe the performance of a classification model or “classifier”) on a set of test data for which the true values are known*"
   ]
  },
  {
   "cell_type": "code",
   "execution_count": 45,
   "metadata": {},
   "outputs": [],
   "source": [
    "\n",
    "def plot_confusion_matrix(y_true, y_pred, classes,normalize=False,title=None,cmap=plt.cm.PuRd):\n",
    "    if not title:\n",
    "        if normalize:\n",
    "            title = 'Normalized confusion matrix'\n",
    "        else:\n",
    "            title = 'Confusion matrix'\n",
    "    #Computing confusion matrix\n",
    "    cm = confusion_matrix(y_true, y_pred)\n",
    "    if normalize:\n",
    "        cm = cm.astype('float') / cm.sum(axis=1)[:, np.newaxis]\n",
    "        print(\"Normalized confusion matrix\")\n",
    "    else:\n",
    "        print('Confusion matrix, without normalization')\n",
    "    print(cm)\n",
    "    fig, ax = plt.subplots()\n",
    "    im = ax.imshow(cm, interpolation='nearest', cmap=cmap)\n",
    "    ax.figure.colorbar(im, ax=ax)\n",
    "    ax.set(xticks=np.arange(cm.shape[1]),\n",
    "           yticks=np.arange(cm.shape[0]),\n",
    "           # ... and label them with the respective list entries\n",
    "           xticklabels=classes, yticklabels=classes,\n",
    "           title=title,\n",
    "           ylabel='True',\n",
    "           xlabel='Predicted')\n",
    "    \n",
    "    #Rotating the tick labels and set their alignment.\n",
    "    plt.setp(ax.get_xticklabels(), rotation=45, ha=\"right\",rotation_mode=\"anchor\")\n",
    "\n",
    "    #Loop over data dimensions and create text annotations.\n",
    "    fmt = '.2f' if normalize else 'd'\n",
    "    thresh = cm.max() / 2.\n",
    "    for i in range(cm.shape[0]):\n",
    "        for j in range(cm.shape[1]):\n",
    "            ax.text(j, i, format(cm[i, j], fmt),\n",
    "                    ha=\"center\", va=\"center\",\n",
    "                    color=\"white\" if cm[i, j] > thresh else \"black\")\n",
    "    fig.tight_layout()\n",
    "    return ax"
   ]
  },
  {
   "cell_type": "code",
   "execution_count": 46,
   "metadata": {},
   "outputs": [
    {
     "name": "stdout",
     "output_type": "stream",
     "text": [
      "Confusion matrix, without normalization\n",
      "[[16  0  0  0]\n",
      " [ 0  4  0  3]\n",
      " [ 0  0  1  0]\n",
      " [ 0  0  0  9]]\n"
     ]
    },
    {
     "data": {
      "text/plain": [
       "<matplotlib.axes._subplots.AxesSubplot at 0x29ce9a3aca0>"
      ]
     },
     "execution_count": 46,
     "metadata": {},
     "output_type": "execute_result"
    },
    {
     "data": {
      "image/png": "[encoded data removed]",
      "text/plain": [
       "<Figure size 432x288 with 2 Axes>"
      ]
     },
     "metadata": {},
     "output_type": "display_data"
    }
   ],
   "source": [
    "definitions = ['Chill','Energetic','Cheerful','Romantic']\n",
    "plot_confusion_matrix(y_test, y_pred, classes=definitions,title='Confusion matrix for Random Forest Classifier')"
   ]
  },
  {
   "cell_type": "code",
   "execution_count": 47,
   "metadata": {},
   "outputs": [
    {
     "data": {
      "text/plain": [
       "[('danceability', 0.13277464099883984),\n",
       " ('acousticness', 0.5450023004232327),\n",
       " ('liveness', 0.048974893134428286),\n",
       " ('loudness', 0.19797043466014738),\n",
       " ('speechiness', 0.07527773078335183)]"
      ]
     },
     "execution_count": 47,
     "metadata": {},
     "output_type": "execute_result"
    }
   ],
   "source": [
    "# View a list of the features and their importance scores\n",
    "features = songs_features.columns\n",
    "list(zip(songs_features[features], rfc.feature_importances_))"
   ]
  },
  {
   "cell_type": "code",
   "execution_count": 48,
   "metadata": {},
   "outputs": [],
   "source": [
    "#Import Knn model\n",
    "from sklearn.neighbors import KNeighborsClassifier\n",
    "\n",
    "#Create a KNN Classifier\n",
    "knn = KNeighborsClassifier(n_neighbors=3)\n",
    "\n",
    "# Train the model using the training sets\n",
    "knn.fit(X_train,y_train)\n",
    "\n",
    "#Predict the response for test dataset\n",
    "knn_pred =knn.predict(X_test)"
   ]
  },
  {
   "cell_type": "code",
   "execution_count": 49,
   "metadata": {},
   "outputs": [
    {
     "name": "stdout",
     "output_type": "stream",
     "text": [
      "Confusion matrix, without normalization\n",
      "[[16  0  0  0]\n",
      " [ 0  5  1  1]\n",
      " [ 0  0  1  0]\n",
      " [ 3  0  0  6]]\n"
     ]
    },
    {
     "data": {
      "text/plain": [
       "<matplotlib.axes._subplots.AxesSubplot at 0x29ce9b2a9a0>"
      ]
     },
     "execution_count": 49,
     "metadata": {},
     "output_type": "execute_result"
    },
    {
     "data": {
      "image/png": "[encoded data removed]",
      "text/plain": [
       "<Figure size 432x288 with 2 Axes>"
      ]
     },
     "metadata": {},
     "output_type": "display_data"
    }
   ],
   "source": [
    "plot_confusion_matrix(y_test, knn_pred, classes=definitions,title='Confusion matrix for KNN Classifier')"
   ]
  },
  {
   "cell_type": "code",
   "execution_count": 50,
   "metadata": {},
   "outputs": [],
   "source": [
    "#Import SVM model\n",
    "from sklearn import svm\n",
    "\n",
    "#Create a SVM Classifier\n",
    "svm = svm.SVC(kernel=\"linear\") \n",
    "\n",
    "#Train the model using the training sets\n",
    "svm.fit(X_train, y_train)\n",
    "\n",
    "#Predict the response for test dataset\n",
    "svm_pred = svm.predict(X_test)"
   ]
  },
  {
   "cell_type": "code",
   "execution_count": 51,
   "metadata": {},
   "outputs": [
    {
     "name": "stdout",
     "output_type": "stream",
     "text": [
      "Confusion matrix, without normalization\n",
      "[[16  0  0  0]\n",
      " [ 0  6  0  1]\n",
      " [ 0  0  1  0]\n",
      " [ 8  0  0  1]]\n"
     ]
    },
    {
     "data": {
      "text/plain": [
       "<matplotlib.axes._subplots.AxesSubplot at 0x29ce9ba4fa0>"
      ]
     },
     "execution_count": 51,
     "metadata": {},
     "output_type": "execute_result"
    },
    {
     "data": {
      "image/png": "[encoded data removed]",
      "text/plain": [
       "<Figure size 432x288 with 2 Axes>"
      ]
     },
     "metadata": {},
     "output_type": "display_data"
    }
   ],
   "source": [
    "plot_confusion_matrix(y_test, svm_pred, classes=definitions,title='Confusion matrix for SVM')"
   ]
  },
  {
   "cell_type": "code",
   "execution_count": 52,
   "metadata": {},
   "outputs": [
    {
     "name": "stderr",
     "output_type": "stream",
     "text": [
      "E:\\Anaconda\\lib\\site-packages\\sklearn\\neural_network\\_multilayer_perceptron.py:582: ConvergenceWarning: Stochastic Optimizer: Maximum iterations (200) reached and the optimization hasn't converged yet.\n",
      "  warnings.warn(\n"
     ]
    }
   ],
   "source": [
    "#Import MLP model\n",
    "from sklearn.neural_network import MLPClassifier\n",
    "\n",
    "#Create a MLP Classifier\n",
    "mlp = MLPClassifier()\n",
    "\n",
    "#Train the model using the training sets\n",
    "mlp.fit(X_train, y_train)\n",
    "\n",
    "#Predict the response for test dataset\n",
    "mlp_pred = mlp.predict(X_test)"
   ]
  },
  {
   "cell_type": "code",
   "execution_count": 53,
   "metadata": {},
   "outputs": [
    {
     "name": "stdout",
     "output_type": "stream",
     "text": [
      "Confusion matrix, without normalization\n",
      "[[16  0  0  0]\n",
      " [ 0  5  0  2]\n",
      " [ 0  0  1  0]\n",
      " [ 8  0  0  1]]\n"
     ]
    },
    {
     "data": {
      "text/plain": [
       "<matplotlib.axes._subplots.AxesSubplot at 0x29ce9bbefa0>"
      ]
     },
     "execution_count": 53,
     "metadata": {},
     "output_type": "execute_result"
    },
    {
     "data": {
      "image/png": "[encoded data removed]",
      "text/plain": [
       "<Figure size 432x288 with 2 Axes>"
      ]
     },
     "metadata": {},
     "output_type": "display_data"
    }
   ],
   "source": [
    "plot_confusion_matrix(y_test, mlp_pred, classes=definitions,title='Confusion matrix for MLP')"
   ]
  },
  {
   "cell_type": "code",
   "execution_count": 54,
   "metadata": {},
   "outputs": [
    {
     "name": "stdout",
     "output_type": "stream",
     "text": [
      "              precision    recall  f1-score   support\n",
      "\n",
      "       Chill       0.67      1.00      0.80        16\n",
      "   Energetic       1.00      0.71      0.83         7\n",
      "    Cheerful       1.00      1.00      1.00         1\n",
      "    Romantic       0.33      0.11      0.17         9\n",
      "\n",
      "    accuracy                           0.70        33\n",
      "   macro avg       0.75      0.71      0.70        33\n",
      "weighted avg       0.66      0.70      0.64        33\n",
      "MLP\n"
     ]
    }
   ],
   "source": [
    "print(classification_report(y_test,mlp_pred,target_names=definitions)+'MLP')"
   ]
  },
  {
   "cell_type": "code",
   "execution_count": 55,
   "metadata": {},
   "outputs": [
    {
     "name": "stdout",
     "output_type": "stream",
     "text": [
      "              precision    recall  f1-score   support\n",
      "\n",
      "       Chill       0.67      1.00      0.80        16\n",
      "   Energetic       1.00      0.86      0.92         7\n",
      "    Cheerful       1.00      1.00      1.00         1\n",
      "    Romantic       0.50      0.11      0.18         9\n",
      "\n",
      "    accuracy                           0.73        33\n",
      "   macro avg       0.79      0.74      0.73        33\n",
      "weighted avg       0.70      0.73      0.66        33\n",
      "SVM\n"
     ]
    }
   ],
   "source": [
    "print(classification_report(y_test,svm_pred,target_names=definitions)+'SVM')"
   ]
  },
  {
   "cell_type": "code",
   "execution_count": 56,
   "metadata": {},
   "outputs": [
    {
     "name": "stdout",
     "output_type": "stream",
     "text": [
      "              precision    recall  f1-score   support\n",
      "\n",
      "       Chill       0.84      1.00      0.91        16\n",
      "   Energetic       1.00      0.71      0.83         7\n",
      "    Cheerful       0.50      1.00      0.67         1\n",
      "    Romantic       0.86      0.67      0.75         9\n",
      "\n",
      "    accuracy                           0.85        33\n",
      "   macro avg       0.80      0.85      0.79        33\n",
      "weighted avg       0.87      0.85      0.84        33\n",
      "KNN\n"
     ]
    }
   ],
   "source": [
    "print(classification_report(y_test,knn_pred,target_names=definitions)+'KNN')"
   ]
  },
  {
   "cell_type": "code",
   "execution_count": 57,
   "metadata": {},
   "outputs": [
    {
     "name": "stdout",
     "output_type": "stream",
     "text": [
      "              precision    recall  f1-score   support\n",
      "\n",
      "       Chill       1.00      1.00      1.00        16\n",
      "   Energetic       1.00      0.57      0.73         7\n",
      "    Cheerful       1.00      1.00      1.00         1\n",
      "    Romantic       0.75      1.00      0.86         9\n",
      "\n",
      "    accuracy                           0.91        33\n",
      "   macro avg       0.94      0.89      0.90        33\n",
      "weighted avg       0.93      0.91      0.90        33\n",
      "RF\n"
     ]
    }
   ],
   "source": [
    "print(classification_report(y_test,y_pred,target_names=definitions)+'RF')"
   ]
  }
 ],
 "metadata": {
  "kernelspec": {
   "display_name": "Python 3",
   "language": "python",
   "name": "python3"
  },
  "language_info": {
   "codemirror_mode": {
    "name": "ipython",
    "version": 3
   },
   "file_extension": ".py",
   "mimetype": "text/x-python",
   "name": "python",
   "nbconvert_exporter": "python",
   "pygments_lexer": "ipython3",
   "version": "3.8.3"
  }
 },
 "nbformat": 4,
 "nbformat_minor": 4
}
