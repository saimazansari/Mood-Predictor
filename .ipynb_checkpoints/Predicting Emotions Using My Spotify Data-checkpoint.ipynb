{
 "cells": [
  {
   "cell_type": "code",
   "execution_count": 36,
   "metadata": {},
   "outputs": [
    {
     "data": {
      "image/png": "[encoded data removed]",
      "text/plain": [
       "<Figure size 288x72 with 1 Axes>"
      ]
     },
     "metadata": {},
     "output_type": "display_data"
    }
   ],
   "source": [
    "# Supporting both python 2 and python 3.\n",
    "from __future__ import division, print_function, unicode_literals\n",
    "\n",
    "#importing neccessary libraries.\n",
    "import numpy as np\n",
    "import os\n",
    "import pandas as pd\n",
    "\n",
    "#Importing matplotlib.\n",
    "#matplotlib is a visualization library in Python for 2D plots of arrays.\n",
    "%matplotlib inline\n",
    "import matplotlib as mpl\n",
    "import matplotlib.pyplot as plt\n",
    "mpl.rc('axes', labelsize=14)\n",
    "mpl.rc('xtick', labelsize=12)\n",
    "mpl.rc('ytick', labelsize=12)\n",
    "\n",
    "#Importing Seabron.\n",
    "#Seaborn is a library that uses Matplotlib underneath to plot graphs. It will be used to visualize random distributions.\n",
    "import seaborn as sns\n",
    "sns.set_style('white')\n",
    "\n",
    "#Defining custom palette.\n",
    "customPalette = ['#630C3A', '#20B2AA', '#D3500C', '#FFB139']\n",
    "sns.set_palette(customPalette)\n",
    "sns.palplot(customPalette)\n"
   ]
  },
  {
   "cell_type": "code",
   "execution_count": 37,
   "metadata": {},
   "outputs": [
    {
     "name": "stdout",
     "output_type": "stream",
     "text": [
      "<class 'pandas.core.frame.DataFrame'>\n",
      "RangeIndex: 100 entries, 0 to 99\n",
      "Data columns (total 17 columns):\n",
      " #   Column            Non-Null Count  Dtype  \n",
      "---  ------            --------------  -----  \n",
      " 0   Unnamed: 0        100 non-null    int64  \n",
      " 1   name              100 non-null    object \n",
      " 2   album             100 non-null    object \n",
      " 3   artist            100 non-null    object \n",
      " 4   release_date      100 non-null    object \n",
      " 5   length            100 non-null    int64  \n",
      " 6   popularity        100 non-null    int64  \n",
      " 7   danceability      100 non-null    float64\n",
      " 8   acousticness      100 non-null    float64\n",
      " 9   danceability.1    100 non-null    float64\n",
      " 10  energy            100 non-null    float64\n",
      " 11  instrumentalness  100 non-null    float64\n",
      " 12  liveness          100 non-null    float64\n",
      " 13  loudness          100 non-null    float64\n",
      " 14  speechiness       100 non-null    float64\n",
      " 15  tempo             100 non-null    float64\n",
      " 16  time_signature    100 non-null    int64  \n",
      "dtypes: float64(9), int64(4), object(4)\n",
      "memory usage: 13.4+ KB\n"
     ]
    }
   ],
   "source": [
    "# Import my spotify data.\n",
    "songs = pd.read_csv(r\"C:\\Users\\saima\\Desktop\\Predicting Emotions Using My Spotify Data\\spotify.csv\")\n",
    "\n",
    "songs.info()"
   ]
  },
  {
   "cell_type": "code",
   "execution_count": 38,
   "metadata": {
    "scrolled": true
   },
   "outputs": [
    {
     "data": {
      "text/html": [
       "<div>\n",
       "<style scoped>\n",
       "    .dataframe tbody tr th:only-of-type {\n",
       "        vertical-align: middle;\n",
       "    }\n",
       "\n",
       "    .dataframe tbody tr th {\n",
       "        vertical-align: top;\n",
       "    }\n",
       "\n",
       "    .dataframe thead th {\n",
       "        text-align: right;\n",
       "    }\n",
       "</style>\n",
       "<table border=\"1\" class=\"dataframe\">\n",
       "  <thead>\n",
       "    <tr style=\"text-align: right;\">\n",
       "      <th></th>\n",
       "      <th>name</th>\n",
       "      <th>artist</th>\n",
       "      <th>danceability</th>\n",
       "      <th>acousticness</th>\n",
       "      <th>liveness</th>\n",
       "      <th>loudness</th>\n",
       "      <th>speechiness</th>\n",
       "    </tr>\n",
       "  </thead>\n",
       "  <tbody>\n",
       "    <tr>\n",
       "      <th>0</th>\n",
       "      <td>I Will Always Love You</td>\n",
       "      <td>Whitney Houston</td>\n",
       "      <td>0.306</td>\n",
       "      <td>0.8440</td>\n",
       "      <td>0.0839</td>\n",
       "      <td>-12.518</td>\n",
       "      <td>0.0356</td>\n",
       "    </tr>\n",
       "    <tr>\n",
       "      <th>1</th>\n",
       "      <td>Love of the Common People</td>\n",
       "      <td>Paul Young</td>\n",
       "      <td>0.744</td>\n",
       "      <td>0.0883</td>\n",
       "      <td>0.0599</td>\n",
       "      <td>-11.202</td>\n",
       "      <td>0.0758</td>\n",
       "    </tr>\n",
       "    <tr>\n",
       "      <th>2</th>\n",
       "      <td>Because I Love You</td>\n",
       "      <td>Shakin' Stevens</td>\n",
       "      <td>0.587</td>\n",
       "      <td>0.2440</td>\n",
       "      <td>0.1180</td>\n",
       "      <td>-12.891</td>\n",
       "      <td>0.0255</td>\n",
       "    </tr>\n",
       "    <tr>\n",
       "      <th>3</th>\n",
       "      <td>Song For Zula</td>\n",
       "      <td>Phosphorescent</td>\n",
       "      <td>0.492</td>\n",
       "      <td>0.7290</td>\n",
       "      <td>0.0509</td>\n",
       "      <td>-8.260</td>\n",
       "      <td>0.0349</td>\n",
       "    </tr>\n",
       "    <tr>\n",
       "      <th>4</th>\n",
       "      <td>Song for Zula</td>\n",
       "      <td>Ronnie Fauss</td>\n",
       "      <td>0.506</td>\n",
       "      <td>0.7340</td>\n",
       "      <td>0.0737</td>\n",
       "      <td>-6.931</td>\n",
       "      <td>0.0246</td>\n",
       "    </tr>\n",
       "  </tbody>\n",
       "</table>\n",
       "</div>"
      ],
      "text/plain": [
       "                        name           artist  danceability  acousticness  \\\n",
       "0     I Will Always Love You  Whitney Houston         0.306        0.8440   \n",
       "1  Love of the Common People       Paul Young         0.744        0.0883   \n",
       "2         Because I Love You  Shakin' Stevens         0.587        0.2440   \n",
       "3              Song For Zula   Phosphorescent         0.492        0.7290   \n",
       "4              Song for Zula     Ronnie Fauss         0.506        0.7340   \n",
       "\n",
       "   liveness  loudness  speechiness  \n",
       "0    0.0839   -12.518       0.0356  \n",
       "1    0.0599   -11.202       0.0758  \n",
       "2    0.1180   -12.891       0.0255  \n",
       "3    0.0509    -8.260       0.0349  \n",
       "4    0.0737    -6.931       0.0246  "
      ]
     },
     "execution_count": 38,
     "metadata": {},
     "output_type": "execute_result"
    }
   ],
   "source": [
    "#Dropping unneccessary columns/data\n",
    "songs = songs.drop(['Unnamed: 0','album','energy','release_date','tempo','length','popularity','danceability.1','instrumentalness','time_signature'],axis=1)\n",
    "songs.head()"
   ]
  },
  {
   "cell_type": "code",
   "execution_count": 39,
   "metadata": {},
   "outputs": [
    {
     "data": {
      "text/html": [
       "<div>\n",
       "<style scoped>\n",
       "    .dataframe tbody tr th:only-of-type {\n",
       "        vertical-align: middle;\n",
       "    }\n",
       "\n",
       "    .dataframe tbody tr th {\n",
       "        vertical-align: top;\n",
       "    }\n",
       "\n",
       "    .dataframe thead th {\n",
       "        text-align: right;\n",
       "    }\n",
       "</style>\n",
       "<table border=\"1\" class=\"dataframe\">\n",
       "  <thead>\n",
       "    <tr style=\"text-align: right;\">\n",
       "      <th></th>\n",
       "      <th>danceability</th>\n",
       "      <th>acousticness</th>\n",
       "      <th>liveness</th>\n",
       "      <th>loudness</th>\n",
       "      <th>speechiness</th>\n",
       "    </tr>\n",
       "  </thead>\n",
       "  <tbody>\n",
       "    <tr>\n",
       "      <th>count</th>\n",
       "      <td>100.000000</td>\n",
       "      <td>100.000000</td>\n",
       "      <td>100.000000</td>\n",
       "      <td>100.000000</td>\n",
       "      <td>100.000000</td>\n",
       "    </tr>\n",
       "    <tr>\n",
       "      <th>mean</th>\n",
       "      <td>0.625380</td>\n",
       "      <td>0.298293</td>\n",
       "      <td>0.170778</td>\n",
       "      <td>-7.264860</td>\n",
       "      <td>0.081449</td>\n",
       "    </tr>\n",
       "    <tr>\n",
       "      <th>std</th>\n",
       "      <td>0.153444</td>\n",
       "      <td>0.328817</td>\n",
       "      <td>0.112697</td>\n",
       "      <td>4.239447</td>\n",
       "      <td>0.071516</td>\n",
       "    </tr>\n",
       "    <tr>\n",
       "      <th>min</th>\n",
       "      <td>0.157000</td>\n",
       "      <td>0.000688</td>\n",
       "      <td>0.050900</td>\n",
       "      <td>-23.562000</td>\n",
       "      <td>0.024600</td>\n",
       "    </tr>\n",
       "    <tr>\n",
       "      <th>25%</th>\n",
       "      <td>0.558500</td>\n",
       "      <td>0.040075</td>\n",
       "      <td>0.093475</td>\n",
       "      <td>-8.034000</td>\n",
       "      <td>0.036600</td>\n",
       "    </tr>\n",
       "    <tr>\n",
       "      <th>50%</th>\n",
       "      <td>0.660000</td>\n",
       "      <td>0.169500</td>\n",
       "      <td>0.124000</td>\n",
       "      <td>-6.004500</td>\n",
       "      <td>0.054150</td>\n",
       "    </tr>\n",
       "    <tr>\n",
       "      <th>75%</th>\n",
       "      <td>0.728250</td>\n",
       "      <td>0.535250</td>\n",
       "      <td>0.217500</td>\n",
       "      <td>-4.784000</td>\n",
       "      <td>0.091025</td>\n",
       "    </tr>\n",
       "    <tr>\n",
       "      <th>max</th>\n",
       "      <td>0.903000</td>\n",
       "      <td>0.990000</td>\n",
       "      <td>0.638000</td>\n",
       "      <td>-2.528000</td>\n",
       "      <td>0.375000</td>\n",
       "    </tr>\n",
       "  </tbody>\n",
       "</table>\n",
       "</div>"
      ],
      "text/plain": [
       "       danceability  acousticness    liveness    loudness  speechiness\n",
       "count    100.000000    100.000000  100.000000  100.000000   100.000000\n",
       "mean       0.625380      0.298293    0.170778   -7.264860     0.081449\n",
       "std        0.153444      0.328817    0.112697    4.239447     0.071516\n",
       "min        0.157000      0.000688    0.050900  -23.562000     0.024600\n",
       "25%        0.558500      0.040075    0.093475   -8.034000     0.036600\n",
       "50%        0.660000      0.169500    0.124000   -6.004500     0.054150\n",
       "75%        0.728250      0.535250    0.217500   -4.784000     0.091025\n",
       "max        0.903000      0.990000    0.638000   -2.528000     0.375000"
      ]
     },
     "execution_count": 39,
     "metadata": {},
     "output_type": "execute_result"
    }
   ],
   "source": [
    "#Describing numerical features.\n",
    "songs.describe()"
   ]
  },
  {
   "cell_type": "code",
   "execution_count": 40,
   "metadata": {
    "scrolled": true
   },
   "outputs": [
    {
     "data": {
      "text/plain": [
       "array([[<matplotlib.axes._subplots.AxesSubplot object at 0x000001A1C91D5280>,\n",
       "        <matplotlib.axes._subplots.AxesSubplot object at 0x000001A1C91F3460>],\n",
       "       [<matplotlib.axes._subplots.AxesSubplot object at 0x000001A1C921F8B0>,\n",
       "        <matplotlib.axes._subplots.AxesSubplot object at 0x000001A1C924CD00>],\n",
       "       [<matplotlib.axes._subplots.AxesSubplot object at 0x000001A1C9285190>,\n",
       "        <matplotlib.axes._subplots.AxesSubplot object at 0x000001A1C92B2640>]],\n",
       "      dtype=object)"
      ]
     },
     "execution_count": 40,
     "metadata": {},
     "output_type": "execute_result"
    },
    {
     "data": {
      "image/png": "[encoded data removed]",
      "text/plain": [
       "<Figure size 1440x1080 with 6 Axes>"
      ]
     },
     "metadata": {},
     "output_type": "display_data"
    }
   ],
   "source": [
    "#Importing preprocessing from sklearn.\n",
    "#The sklearn.preprocessing package provides several common utility functions and transformer classes.\n",
    "from sklearn import preprocessing\n",
    "\n",
    "#Normalising loudness value between 0 to 1.\n",
    "loudness = songs[['loudness']].values\n",
    "min_max_scaler = preprocessing.MinMaxScaler()\n",
    "loudness_scaled = min_max_scaler.fit_transform(loudness)\n",
    "songs['loudness'] = pd.DataFrame(loudness_scaled)\n",
    "\n",
    "#plotting histogram for different features we selected.\n",
    "songs.hist(bins=50,figsize=(20,15))"
   ]
  },
  {
   "cell_type": "code",
   "execution_count": 41,
   "metadata": {},
   "outputs": [],
   "source": [
    "#Dropping song names and artist before clustering.\n",
    "songs_features = songs.copy()\n",
    "songs_features = songs_features.drop(['name','artist'],axis=1)"
   ]
  },
  {
   "cell_type": "markdown",
   "metadata": {},
   "source": [
    "*Now the Data is Prepared, will now cluster the songs and identify a mood represented by each cluster.*"
   ]
  },
  {
   "cell_type": "markdown",
   "metadata": {},
   "source": [
    "# K-Means Clustering Algorithm"
   ]
  },
  {
   "cell_type": "markdown",
   "metadata": {},
   "source": [
    "*Clustering is the process of dividing the entire data into groups (also known as clusters) based on the patterns in the data. In clustering, we do not have a target to predict. We look at the data and then try to club similar observations and form different groups. Hence it is an unsupervised learning problem.\n",
    "Using K-Means Clustering Algorithm, we can group data points into k-groups and discover emphazing patterns. To execute that it looks for a predefined number (k) of clusters. There are many ways of doing, One of the best method is the ELBOW METHOD.\n",
    "The elbow method runs k-means clustering on the dataset for a range of values for k (say from 1-10) and then for each value of k computes an average score for all clusters.*"
   ]
  },
  {
   "cell_type": "code",
   "execution_count": 42,
   "metadata": {},
   "outputs": [],
   "source": [
    "from sklearn.cluster import KMeans\n",
    "Sum_of_squared_distances = []\n",
    "K = range(1,15)\n",
    "for k in K:\n",
    "    kmeanModel = KMeans(n_clusters=k)\n",
    "    kmeanModel = kmeanModel.fit(songs_features)\n",
    "    Sum_of_squared_distances.append(kmeanModel.inertia_)"
   ]
  },
  {
   "cell_type": "code",
   "execution_count": 43,
   "metadata": {},
   "outputs": [
    {
     "name": "stdout",
     "output_type": "stream",
     "text": [
      "For n_clusters = 2, silhouette score is 0.587199598360731)\n",
      "For n_clusters = 3, silhouette score is 0.5430140962106473)\n",
      "For n_clusters = 4, silhouette score is 0.30210483818971545)\n",
      "For n_clusters = 5, silhouette score is 0.2810757141105351)\n",
      "For n_clusters = 6, silhouette score is 0.2732485243949288)\n",
      "For n_clusters = 7, silhouette score is 0.2665359060665281)\n",
      "For n_clusters = 8, silhouette score is 0.27528676371620503)\n",
      "For n_clusters = 9, silhouette score is 0.28362203531127367)\n",
      "For n_clusters = 10, silhouette score is 0.2630051548902353)\n",
      "For n_clusters = 11, silhouette score is 0.2781441652564451)\n",
      "For n_clusters = 12, silhouette score is 0.2823407184460132)\n",
      "For n_clusters = 13, silhouette score is 0.2753565140507978)\n",
      "For n_clusters = 14, silhouette score is 0.2861173182302668)\n"
     ]
    }
   ],
   "source": [
    "from sklearn.metrics import silhouette_score\n",
    "for n_clusters in range(2,15):\n",
    "    clusterer = KMeans (n_clusters=n_clusters)\n",
    "    preds = clusterer.fit_predict(songs_features)\n",
    "    centers = clusterer.cluster_centers_\n",
    "\n",
    "    score = silhouette_score (songs_features, preds, metric='euclidean')\n",
    "    print (\"For n_clusters = {}, silhouette score is {})\".format(n_clusters, score))"
   ]
  },
  {
   "cell_type": "code",
   "execution_count": 44,
   "metadata": {},
   "outputs": [
    {
     "data": {
      "image/png": "[encoded data removed]",
      "text/plain": [
       "<Figure size 432x288 with 1 Axes>"
      ]
     },
     "metadata": {},
     "output_type": "display_data"
    }
   ],
   "source": [
    "#Plotting graphs for Optimal k\n",
    "plt.plot(K, Sum_of_squared_distances, 'gx-')\n",
    "plt.xlabel('k')\n",
    "plt.ylabel('Sum_of_squared_distances')\n",
    "plt.title('Elbow Method For Optimal k')\n",
    "plt.show()"
   ]
  },
  {
   "cell_type": "markdown",
   "metadata": {},
   "source": [
    "**It' visible now, when k = 4 the average squared distance to cluster centre starts to trail off remarkably. This is, our optimal k.**"
   ]
  },
  {
   "cell_type": "code",
   "execution_count": 45,
   "metadata": {},
   "outputs": [
    {
     "data": {
      "text/plain": [
       "KMeans(n_clusters=4, n_jobs=None, precompute_distances='auto')"
      ]
     },
     "execution_count": 45,
     "metadata": {},
     "output_type": "execute_result"
    }
   ],
   "source": [
    "#Making Clusters using sklearn.cluster.Kmeans\n",
    "KMeans(algorithm='auto', copy_x=True, init='k-means++', max_iter=300,\n",
    "    n_clusters=4, n_init=10, n_jobs=None, precompute_distances='auto',\n",
    "    random_state=None, tol=0.0001, verbose=0)"
   ]
  },
  {
   "cell_type": "code",
   "execution_count": 127,
   "metadata": {},
   "outputs": [],
   "source": [
    "#Principal component analysis (PCA) is a technique for reducing the dimensionality of such datasets, increasing interpretability, for visualisation.\n",
    "from sklearn.decomposition import PCA\n",
    "kmeans = KMeans(n_clusters=4)\n",
    "kmeans.fit(songs_features)\n",
    "y_kmeans = kmeans.predict(songs_features)\n",
    "pca = PCA(n_components=2)\n",
    "principal_components = pca.fit_transform(songs_features)"
   ]
  },
  {
   "cell_type": "code",
   "execution_count": 128,
   "metadata": {},
   "outputs": [
    {
     "data": {
      "image/png": "[encoded data removed]",
      "text/plain": [
       "<Figure size 401.625x360 with 1 Axes>"
      ]
     },
     "metadata": {},
     "output_type": "display_data"
    }
   ],
   "source": [
    "pc = pd.DataFrame(principal_components)\n",
    "pc['label'] = y_kmeans\n",
    "pc.columns = ['x', 'y','label']\n",
    "\n",
    "#Plotting data with seaborn\n",
    "cluster = sns.lmplot(data=pc, x='x', y='y', hue='label', \n",
    "                   fit_reg=False, legend=True, legend_out=True)"
   ]
  },
  {
   "cell_type": "code",
   "execution_count": 124,
   "metadata": {},
   "outputs": [],
   "source": [
    "#Distributed Stochastic Neighbor Embedding (t-SNE) is a technique for dimensionality reduction that is particularly well suited for the visualization of high-dimensional datasets.\n",
    "from sklearn.manifold import TSNE \n",
    "\n",
    "#T-SNE with two dimensions\n",
    "tsne = TSNE(n_components=2, perplexity=50)\n",
    "\n",
    "tsne_components = tsne.fit_transform(songs_features)"
   ]
  },
  {
   "cell_type": "code",
   "execution_count": 73,
   "metadata": {},
   "outputs": [
    {
     "data": {
      "image/png": "[encoded data removed]",
      "text/plain": [
       "<Figure size 401.625x360 with 1 Axes>"
      ]
     },
     "metadata": {},
     "output_type": "display_data"
    }
   ],
   "source": [
    "ts = pd.DataFrame(tsne_components)\n",
    "ts['label'] = y_kmeans\n",
    "ts.columns = ['x', 'y','label']\n",
    "\n",
    "#plot data with seaborn\n",
    "cluster = sns.lmplot(data=ts, x='x', y='y', hue='label', \n",
    "                   fit_reg=False, legend=True, legend_out=True)"
   ]
  },
  {
   "cell_type": "code",
   "execution_count": 74,
   "metadata": {},
   "outputs": [
    {
     "data": {
      "text/plain": [
       "array([0.73646499, 0.09879449])"
      ]
     },
     "execution_count": 74,
     "metadata": {},
     "output_type": "execute_result"
    }
   ],
   "source": [
    "pca.explained_variance_ratio_"
   ]
  },
  {
   "cell_type": "markdown",
   "metadata": {},
   "source": [
    "**The explained variance tells you how much information (variance) can be attributed to each of the principal components.**"
   ]
  },
  {
   "cell_type": "markdown",
   "metadata": {},
   "source": [
    "# Exploring each of the 4 clusters and see what songs they contain."
   ]
  },
  {
   "cell_type": "code",
   "execution_count": 76,
   "metadata": {},
   "outputs": [
    {
     "data": {
      "text/plain": [
       "0    56\n",
       "2    22\n",
       "1    15\n",
       "3     7\n",
       "Name: label, dtype: int64"
      ]
     },
     "execution_count": 76,
     "metadata": {},
     "output_type": "execute_result"
    }
   ],
   "source": [
    "songs['label'] = y_kmeans\n",
    "\n",
    "#Shuffling the dataset\n",
    "\n",
    "songs = songs.sample(frac=1)\n",
    "songs['label'].value_counts()"
   ]
  },
  {
   "cell_type": "markdown",
   "metadata": {},
   "source": [
    "**Assigning the mood to each cluster at the songs within them and identifying the emotions that I associate with majority of songs in a cluster.**"
   ]
  },
  {
   "cell_type": "code",
   "execution_count": 112,
   "metadata": {},
   "outputs": [
    {
     "data": {
      "text/html": [
       "<div>\n",
       "<style scoped>\n",
       "    .dataframe tbody tr th:only-of-type {\n",
       "        vertical-align: middle;\n",
       "    }\n",
       "\n",
       "    .dataframe tbody tr th {\n",
       "        vertical-align: top;\n",
       "    }\n",
       "\n",
       "    .dataframe thead th {\n",
       "        text-align: right;\n",
       "    }\n",
       "</style>\n",
       "<table border=\"1\" class=\"dataframe\">\n",
       "  <thead>\n",
       "    <tr style=\"text-align: right;\">\n",
       "      <th></th>\n",
       "      <th>name</th>\n",
       "      <th>artist</th>\n",
       "      <th>danceability</th>\n",
       "      <th>acousticness</th>\n",
       "      <th>liveness</th>\n",
       "      <th>loudness</th>\n",
       "      <th>speechiness</th>\n",
       "      <th>label</th>\n",
       "    </tr>\n",
       "  </thead>\n",
       "  <tbody>\n",
       "    <tr>\n",
       "      <th>88</th>\n",
       "      <td>Be My Baby</td>\n",
       "      <td>Ariana Grande</td>\n",
       "      <td>0.622</td>\n",
       "      <td>0.07350</td>\n",
       "      <td>0.0803</td>\n",
       "      <td>0.823476</td>\n",
       "      <td>0.0356</td>\n",
       "      <td>0</td>\n",
       "    </tr>\n",
       "    <tr>\n",
       "      <th>91</th>\n",
       "      <td>Thinking Bout You</td>\n",
       "      <td>Ariana Grande</td>\n",
       "      <td>0.505</td>\n",
       "      <td>0.01640</td>\n",
       "      <td>0.1210</td>\n",
       "      <td>0.831131</td>\n",
       "      <td>0.0584</td>\n",
       "      <td>0</td>\n",
       "    </tr>\n",
       "    <tr>\n",
       "      <th>37</th>\n",
       "      <td>Next To You (feat. Justin Bieber)</td>\n",
       "      <td>Chris Brown</td>\n",
       "      <td>0.670</td>\n",
       "      <td>0.02010</td>\n",
       "      <td>0.1100</td>\n",
       "      <td>0.895550</td>\n",
       "      <td>0.0370</td>\n",
       "      <td>0</td>\n",
       "    </tr>\n",
       "    <tr>\n",
       "      <th>49</th>\n",
       "      <td>Make You Mine</td>\n",
       "      <td>PUBLIC</td>\n",
       "      <td>0.606</td>\n",
       "      <td>0.01280</td>\n",
       "      <td>0.1500</td>\n",
       "      <td>0.908529</td>\n",
       "      <td>0.0261</td>\n",
       "      <td>0</td>\n",
       "    </tr>\n",
       "    <tr>\n",
       "      <th>77</th>\n",
       "      <td>Only You (with Little Mix)</td>\n",
       "      <td>Cheat Codes</td>\n",
       "      <td>0.607</td>\n",
       "      <td>0.08290</td>\n",
       "      <td>0.1050</td>\n",
       "      <td>0.892317</td>\n",
       "      <td>0.1720</td>\n",
       "      <td>0</td>\n",
       "    </tr>\n",
       "    <tr>\n",
       "      <th>14</th>\n",
       "      <td>Invisible - from the Netflix Film Klaus</td>\n",
       "      <td>Zara Larsson</td>\n",
       "      <td>0.519</td>\n",
       "      <td>0.05710</td>\n",
       "      <td>0.3810</td>\n",
       "      <td>0.930351</td>\n",
       "      <td>0.0402</td>\n",
       "      <td>0</td>\n",
       "    </tr>\n",
       "    <tr>\n",
       "      <th>36</th>\n",
       "      <td>Just The Way You Are</td>\n",
       "      <td>Various Artists</td>\n",
       "      <td>0.636</td>\n",
       "      <td>0.01320</td>\n",
       "      <td>0.1050</td>\n",
       "      <td>0.862651</td>\n",
       "      <td>0.0439</td>\n",
       "      <td>0</td>\n",
       "    </tr>\n",
       "    <tr>\n",
       "      <th>19</th>\n",
       "      <td>Something New (feat. Ty Dolla $ign)</td>\n",
       "      <td>Wiz Khalifa</td>\n",
       "      <td>0.814</td>\n",
       "      <td>0.09350</td>\n",
       "      <td>0.0892</td>\n",
       "      <td>0.805981</td>\n",
       "      <td>0.0809</td>\n",
       "      <td>0</td>\n",
       "    </tr>\n",
       "    <tr>\n",
       "      <th>83</th>\n",
       "      <td>Falling to Pieces</td>\n",
       "      <td>Rita Ora</td>\n",
       "      <td>0.647</td>\n",
       "      <td>0.00966</td>\n",
       "      <td>0.2220</td>\n",
       "      <td>0.841067</td>\n",
       "      <td>0.0278</td>\n",
       "      <td>0</td>\n",
       "    </tr>\n",
       "    <tr>\n",
       "      <th>80</th>\n",
       "      <td>She Loves Control</td>\n",
       "      <td>Camila Cabello</td>\n",
       "      <td>0.650</td>\n",
       "      <td>0.16600</td>\n",
       "      <td>0.0889</td>\n",
       "      <td>0.929067</td>\n",
       "      <td>0.1160</td>\n",
       "      <td>0</td>\n",
       "    </tr>\n",
       "  </tbody>\n",
       "</table>\n",
       "</div>"
      ],
      "text/plain": [
       "                                       name           artist  danceability  \\\n",
       "88                               Be My Baby    Ariana Grande         0.622   \n",
       "91                        Thinking Bout You    Ariana Grande         0.505   \n",
       "37        Next To You (feat. Justin Bieber)      Chris Brown         0.670   \n",
       "49                            Make You Mine           PUBLIC         0.606   \n",
       "77               Only You (with Little Mix)      Cheat Codes         0.607   \n",
       "14  Invisible - from the Netflix Film Klaus     Zara Larsson         0.519   \n",
       "36                     Just The Way You Are  Various Artists         0.636   \n",
       "19      Something New (feat. Ty Dolla $ign)      Wiz Khalifa         0.814   \n",
       "83                        Falling to Pieces         Rita Ora         0.647   \n",
       "80                        She Loves Control   Camila Cabello         0.650   \n",
       "\n",
       "    acousticness  liveness  loudness  speechiness  label  \n",
       "88       0.07350    0.0803  0.823476       0.0356      0  \n",
       "91       0.01640    0.1210  0.831131       0.0584      0  \n",
       "37       0.02010    0.1100  0.895550       0.0370      0  \n",
       "49       0.01280    0.1500  0.908529       0.0261      0  \n",
       "77       0.08290    0.1050  0.892317       0.1720      0  \n",
       "14       0.05710    0.3810  0.930351       0.0402      0  \n",
       "36       0.01320    0.1050  0.862651       0.0439      0  \n",
       "19       0.09350    0.0892  0.805981       0.0809      0  \n",
       "83       0.00966    0.2220  0.841067       0.0278      0  \n",
       "80       0.16600    0.0889  0.929067       0.1160      0  "
      ]
     },
     "execution_count": 112,
     "metadata": {},
     "output_type": "execute_result"
    }
   ],
   "source": [
    "#MOOD LABEL: CHILL MOOD\n",
    "songs[songs['label'] == 0].tail(10)"
   ]
  },
  {
   "cell_type": "code",
   "execution_count": 113,
   "metadata": {},
   "outputs": [
    {
     "data": {
      "text/html": [
       "<div>\n",
       "<style scoped>\n",
       "    .dataframe tbody tr th:only-of-type {\n",
       "        vertical-align: middle;\n",
       "    }\n",
       "\n",
       "    .dataframe tbody tr th {\n",
       "        vertical-align: top;\n",
       "    }\n",
       "\n",
       "    .dataframe thead th {\n",
       "        text-align: right;\n",
       "    }\n",
       "</style>\n",
       "<table border=\"1\" class=\"dataframe\">\n",
       "  <thead>\n",
       "    <tr style=\"text-align: right;\">\n",
       "      <th></th>\n",
       "      <th>name</th>\n",
       "      <th>artist</th>\n",
       "      <th>danceability</th>\n",
       "      <th>acousticness</th>\n",
       "      <th>liveness</th>\n",
       "      <th>loudness</th>\n",
       "      <th>speechiness</th>\n",
       "      <th>label</th>\n",
       "    </tr>\n",
       "  </thead>\n",
       "  <tbody>\n",
       "    <tr>\n",
       "      <th>76</th>\n",
       "      <td>hate u love u</td>\n",
       "      <td>Olivia O'Brien</td>\n",
       "      <td>0.407</td>\n",
       "      <td>0.656</td>\n",
       "      <td>0.0981</td>\n",
       "      <td>0.696349</td>\n",
       "      <td>0.1740</td>\n",
       "      <td>1</td>\n",
       "    </tr>\n",
       "    <tr>\n",
       "      <th>98</th>\n",
       "      <td>Leave Me Lonely</td>\n",
       "      <td>Ariana Grande</td>\n",
       "      <td>0.445</td>\n",
       "      <td>0.599</td>\n",
       "      <td>0.3390</td>\n",
       "      <td>0.765142</td>\n",
       "      <td>0.0312</td>\n",
       "      <td>1</td>\n",
       "    </tr>\n",
       "    <tr>\n",
       "      <th>32</th>\n",
       "      <td>lovely (with Khalid)</td>\n",
       "      <td>Billie Eilish</td>\n",
       "      <td>0.351</td>\n",
       "      <td>0.934</td>\n",
       "      <td>0.0950</td>\n",
       "      <td>0.639584</td>\n",
       "      <td>0.0333</td>\n",
       "      <td>1</td>\n",
       "    </tr>\n",
       "    <tr>\n",
       "      <th>95</th>\n",
       "      <td>I Don't Care</td>\n",
       "      <td>Ariana Grande</td>\n",
       "      <td>0.585</td>\n",
       "      <td>0.773</td>\n",
       "      <td>0.1530</td>\n",
       "      <td>0.724684</td>\n",
       "      <td>0.0412</td>\n",
       "      <td>1</td>\n",
       "    </tr>\n",
       "    <tr>\n",
       "      <th>65</th>\n",
       "      <td>All of Me</td>\n",
       "      <td>John Legend</td>\n",
       "      <td>0.422</td>\n",
       "      <td>0.922</td>\n",
       "      <td>0.1320</td>\n",
       "      <td>0.784349</td>\n",
       "      <td>0.0322</td>\n",
       "      <td>1</td>\n",
       "    </tr>\n",
       "    <tr>\n",
       "      <th>35</th>\n",
       "      <td>This Town</td>\n",
       "      <td>Niall Horan</td>\n",
       "      <td>0.677</td>\n",
       "      <td>0.712</td>\n",
       "      <td>0.1160</td>\n",
       "      <td>0.717648</td>\n",
       "      <td>0.0308</td>\n",
       "      <td>1</td>\n",
       "    </tr>\n",
       "    <tr>\n",
       "      <th>0</th>\n",
       "      <td>I Will Always Love You</td>\n",
       "      <td>Whitney Houston</td>\n",
       "      <td>0.306</td>\n",
       "      <td>0.844</td>\n",
       "      <td>0.0839</td>\n",
       "      <td>0.525055</td>\n",
       "      <td>0.0356</td>\n",
       "      <td>1</td>\n",
       "    </tr>\n",
       "    <tr>\n",
       "      <th>87</th>\n",
       "      <td>My Everything</td>\n",
       "      <td>Ariana Grande</td>\n",
       "      <td>0.540</td>\n",
       "      <td>0.880</td>\n",
       "      <td>0.1310</td>\n",
       "      <td>0.867881</td>\n",
       "      <td>0.0297</td>\n",
       "      <td>1</td>\n",
       "    </tr>\n",
       "    <tr>\n",
       "      <th>33</th>\n",
       "      <td>everything i wanted</td>\n",
       "      <td>Billie Eilish</td>\n",
       "      <td>0.704</td>\n",
       "      <td>0.902</td>\n",
       "      <td>0.1060</td>\n",
       "      <td>0.433013</td>\n",
       "      <td>0.0994</td>\n",
       "      <td>1</td>\n",
       "    </tr>\n",
       "    <tr>\n",
       "      <th>4</th>\n",
       "      <td>Song for Zula</td>\n",
       "      <td>Ronnie Fauss</td>\n",
       "      <td>0.506</td>\n",
       "      <td>0.734</td>\n",
       "      <td>0.0737</td>\n",
       "      <td>0.790672</td>\n",
       "      <td>0.0246</td>\n",
       "      <td>1</td>\n",
       "    </tr>\n",
       "  </tbody>\n",
       "</table>\n",
       "</div>"
      ],
      "text/plain": [
       "                      name           artist  danceability  acousticness  \\\n",
       "76           hate u love u   Olivia O'Brien         0.407         0.656   \n",
       "98         Leave Me Lonely    Ariana Grande         0.445         0.599   \n",
       "32    lovely (with Khalid)    Billie Eilish         0.351         0.934   \n",
       "95            I Don't Care    Ariana Grande         0.585         0.773   \n",
       "65               All of Me      John Legend         0.422         0.922   \n",
       "35               This Town      Niall Horan         0.677         0.712   \n",
       "0   I Will Always Love You  Whitney Houston         0.306         0.844   \n",
       "87           My Everything    Ariana Grande         0.540         0.880   \n",
       "33     everything i wanted    Billie Eilish         0.704         0.902   \n",
       "4            Song for Zula     Ronnie Fauss         0.506         0.734   \n",
       "\n",
       "    liveness  loudness  speechiness  label  \n",
       "76    0.0981  0.696349       0.1740      1  \n",
       "98    0.3390  0.765142       0.0312      1  \n",
       "32    0.0950  0.639584       0.0333      1  \n",
       "95    0.1530  0.724684       0.0412      1  \n",
       "65    0.1320  0.784349       0.0322      1  \n",
       "35    0.1160  0.717648       0.0308      1  \n",
       "0     0.0839  0.525055       0.0356      1  \n",
       "87    0.1310  0.867881       0.0297      1  \n",
       "33    0.1060  0.433013       0.0994      1  \n",
       "4     0.0737  0.790672       0.0246      1  "
      ]
     },
     "execution_count": 113,
     "metadata": {},
     "output_type": "execute_result"
    }
   ],
   "source": [
    "#MOOD LABEL: CHEERFUL MOOD\n",
    "songs[songs['label'] == 1].tail(10)"
   ]
  },
  {
   "cell_type": "code",
   "execution_count": 114,
   "metadata": {},
   "outputs": [
    {
     "data": {
      "text/html": [
       "<div>\n",
       "<style scoped>\n",
       "    .dataframe tbody tr th:only-of-type {\n",
       "        vertical-align: middle;\n",
       "    }\n",
       "\n",
       "    .dataframe tbody tr th {\n",
       "        vertical-align: top;\n",
       "    }\n",
       "\n",
       "    .dataframe thead th {\n",
       "        text-align: right;\n",
       "    }\n",
       "</style>\n",
       "<table border=\"1\" class=\"dataframe\">\n",
       "  <thead>\n",
       "    <tr style=\"text-align: right;\">\n",
       "      <th></th>\n",
       "      <th>name</th>\n",
       "      <th>artist</th>\n",
       "      <th>danceability</th>\n",
       "      <th>acousticness</th>\n",
       "      <th>liveness</th>\n",
       "      <th>loudness</th>\n",
       "      <th>speechiness</th>\n",
       "      <th>label</th>\n",
       "    </tr>\n",
       "  </thead>\n",
       "  <tbody>\n",
       "    <tr>\n",
       "      <th>81</th>\n",
       "      <td>Havana - Remix</td>\n",
       "      <td>Camila Cabello</td>\n",
       "      <td>0.751</td>\n",
       "      <td>0.398</td>\n",
       "      <td>0.1330</td>\n",
       "      <td>0.928307</td>\n",
       "      <td>0.0321</td>\n",
       "      <td>2</td>\n",
       "    </tr>\n",
       "    <tr>\n",
       "      <th>17</th>\n",
       "      <td>Intentions</td>\n",
       "      <td>Justin Bieber</td>\n",
       "      <td>0.811</td>\n",
       "      <td>0.317</td>\n",
       "      <td>0.1050</td>\n",
       "      <td>0.804317</td>\n",
       "      <td>0.0552</td>\n",
       "      <td>2</td>\n",
       "    </tr>\n",
       "    <tr>\n",
       "      <th>34</th>\n",
       "      <td>Next To You Part II (feat. Rvssian &amp; Davido)</td>\n",
       "      <td>Becky G</td>\n",
       "      <td>0.674</td>\n",
       "      <td>0.284</td>\n",
       "      <td>0.1520</td>\n",
       "      <td>0.886232</td>\n",
       "      <td>0.0781</td>\n",
       "      <td>2</td>\n",
       "    </tr>\n",
       "    <tr>\n",
       "      <th>27</th>\n",
       "      <td>Address It</td>\n",
       "      <td>LPB Poody</td>\n",
       "      <td>0.903</td>\n",
       "      <td>0.109</td>\n",
       "      <td>0.0904</td>\n",
       "      <td>0.739565</td>\n",
       "      <td>0.2680</td>\n",
       "      <td>2</td>\n",
       "    </tr>\n",
       "    <tr>\n",
       "      <th>74</th>\n",
       "      <td>I Like Me Better</td>\n",
       "      <td>Lauv</td>\n",
       "      <td>0.752</td>\n",
       "      <td>0.535</td>\n",
       "      <td>0.1040</td>\n",
       "      <td>0.757868</td>\n",
       "      <td>0.2530</td>\n",
       "      <td>2</td>\n",
       "    </tr>\n",
       "    <tr>\n",
       "      <th>89</th>\n",
       "      <td>Focus</td>\n",
       "      <td>Ariana Grande</td>\n",
       "      <td>0.671</td>\n",
       "      <td>0.266</td>\n",
       "      <td>0.4440</td>\n",
       "      <td>0.833317</td>\n",
       "      <td>0.2390</td>\n",
       "      <td>2</td>\n",
       "    </tr>\n",
       "    <tr>\n",
       "      <th>61</th>\n",
       "      <td>thank u, next</td>\n",
       "      <td>Ariana Grande</td>\n",
       "      <td>0.717</td>\n",
       "      <td>0.229</td>\n",
       "      <td>0.1010</td>\n",
       "      <td>0.852334</td>\n",
       "      <td>0.0658</td>\n",
       "      <td>2</td>\n",
       "    </tr>\n",
       "    <tr>\n",
       "      <th>21</th>\n",
       "      <td>Tusa</td>\n",
       "      <td>KAROL G</td>\n",
       "      <td>0.803</td>\n",
       "      <td>0.295</td>\n",
       "      <td>0.0574</td>\n",
       "      <td>0.964248</td>\n",
       "      <td>0.2980</td>\n",
       "      <td>2</td>\n",
       "    </tr>\n",
       "    <tr>\n",
       "      <th>40</th>\n",
       "      <td>Broken Angel</td>\n",
       "      <td>Arash</td>\n",
       "      <td>0.659</td>\n",
       "      <td>0.264</td>\n",
       "      <td>0.0994</td>\n",
       "      <td>0.835409</td>\n",
       "      <td>0.0252</td>\n",
       "      <td>2</td>\n",
       "    </tr>\n",
       "    <tr>\n",
       "      <th>85</th>\n",
       "      <td>Sunflower (Remix) [with Swae Lee, Nicky Jam, a...</td>\n",
       "      <td>Various Artists</td>\n",
       "      <td>0.604</td>\n",
       "      <td>0.274</td>\n",
       "      <td>0.0947</td>\n",
       "      <td>0.918465</td>\n",
       "      <td>0.1190</td>\n",
       "      <td>2</td>\n",
       "    </tr>\n",
       "  </tbody>\n",
       "</table>\n",
       "</div>"
      ],
      "text/plain": [
       "                                                 name           artist  \\\n",
       "81                                     Havana - Remix   Camila Cabello   \n",
       "17                                         Intentions    Justin Bieber   \n",
       "34       Next To You Part II (feat. Rvssian & Davido)          Becky G   \n",
       "27                                         Address It        LPB Poody   \n",
       "74                                   I Like Me Better             Lauv   \n",
       "89                                              Focus    Ariana Grande   \n",
       "61                                      thank u, next    Ariana Grande   \n",
       "21                                               Tusa          KAROL G   \n",
       "40                                       Broken Angel            Arash   \n",
       "85  Sunflower (Remix) [with Swae Lee, Nicky Jam, a...  Various Artists   \n",
       "\n",
       "    danceability  acousticness  liveness  loudness  speechiness  label  \n",
       "81         0.751         0.398    0.1330  0.928307       0.0321      2  \n",
       "17         0.811         0.317    0.1050  0.804317       0.0552      2  \n",
       "34         0.674         0.284    0.1520  0.886232       0.0781      2  \n",
       "27         0.903         0.109    0.0904  0.739565       0.2680      2  \n",
       "74         0.752         0.535    0.1040  0.757868       0.2530      2  \n",
       "89         0.671         0.266    0.4440  0.833317       0.2390      2  \n",
       "61         0.717         0.229    0.1010  0.852334       0.0658      2  \n",
       "21         0.803         0.295    0.0574  0.964248       0.2980      2  \n",
       "40         0.659         0.264    0.0994  0.835409       0.0252      2  \n",
       "85         0.604         0.274    0.0947  0.918465       0.1190      2  "
      ]
     },
     "execution_count": 114,
     "metadata": {},
     "output_type": "execute_result"
    }
   ],
   "source": [
    "#MOOD LABEL: ENERGETIC MOOD\n",
    "songs[songs['label'] == 2].tail(10)"
   ]
  },
  {
   "cell_type": "code",
   "execution_count": 115,
   "metadata": {},
   "outputs": [
    {
     "data": {
      "text/html": [
       "<div>\n",
       "<style scoped>\n",
       "    .dataframe tbody tr th:only-of-type {\n",
       "        vertical-align: middle;\n",
       "    }\n",
       "\n",
       "    .dataframe tbody tr th {\n",
       "        vertical-align: top;\n",
       "    }\n",
       "\n",
       "    .dataframe thead th {\n",
       "        text-align: right;\n",
       "    }\n",
       "</style>\n",
       "<table border=\"1\" class=\"dataframe\">\n",
       "  <thead>\n",
       "    <tr style=\"text-align: right;\">\n",
       "      <th></th>\n",
       "      <th>name</th>\n",
       "      <th>artist</th>\n",
       "      <th>danceability</th>\n",
       "      <th>acousticness</th>\n",
       "      <th>liveness</th>\n",
       "      <th>loudness</th>\n",
       "      <th>speechiness</th>\n",
       "      <th>label</th>\n",
       "    </tr>\n",
       "  </thead>\n",
       "  <tbody>\n",
       "    <tr>\n",
       "      <th>42</th>\n",
       "      <td>Braille</td>\n",
       "      <td>Jan A.P. Kaczmarek</td>\n",
       "      <td>0.183</td>\n",
       "      <td>0.943</td>\n",
       "      <td>0.0931</td>\n",
       "      <td>0.000000</td>\n",
       "      <td>0.0397</td>\n",
       "      <td>3</td>\n",
       "    </tr>\n",
       "    <tr>\n",
       "      <th>45</th>\n",
       "      <td>River Flows in You</td>\n",
       "      <td>Yiruma</td>\n",
       "      <td>0.287</td>\n",
       "      <td>0.968</td>\n",
       "      <td>0.0900</td>\n",
       "      <td>0.203337</td>\n",
       "      <td>0.0541</td>\n",
       "      <td>3</td>\n",
       "    </tr>\n",
       "    <tr>\n",
       "      <th>43</th>\n",
       "      <td>River Flows In You</td>\n",
       "      <td>Yiruma</td>\n",
       "      <td>0.314</td>\n",
       "      <td>0.987</td>\n",
       "      <td>0.0802</td>\n",
       "      <td>0.105496</td>\n",
       "      <td>0.0514</td>\n",
       "      <td>3</td>\n",
       "    </tr>\n",
       "    <tr>\n",
       "      <th>29</th>\n",
       "      <td>Memories</td>\n",
       "      <td>Ryan L Stewart</td>\n",
       "      <td>0.534</td>\n",
       "      <td>0.969</td>\n",
       "      <td>0.0780</td>\n",
       "      <td>0.342826</td>\n",
       "      <td>0.0353</td>\n",
       "      <td>3</td>\n",
       "    </tr>\n",
       "    <tr>\n",
       "      <th>44</th>\n",
       "      <td>Kiss The Rain</td>\n",
       "      <td>Yiruma</td>\n",
       "      <td>0.559</td>\n",
       "      <td>0.990</td>\n",
       "      <td>0.1170</td>\n",
       "      <td>0.044975</td>\n",
       "      <td>0.0423</td>\n",
       "      <td>3</td>\n",
       "    </tr>\n",
       "    <tr>\n",
       "      <th>8</th>\n",
       "      <td>My Heart Will Go On - Love Theme from \"Titanic\"</td>\n",
       "      <td>James Horner</td>\n",
       "      <td>0.157</td>\n",
       "      <td>0.801</td>\n",
       "      <td>0.1260</td>\n",
       "      <td>0.161928</td>\n",
       "      <td>0.0360</td>\n",
       "      <td>3</td>\n",
       "    </tr>\n",
       "    <tr>\n",
       "      <th>46</th>\n",
       "      <td>Kiss the Rain</td>\n",
       "      <td>Yiruma</td>\n",
       "      <td>0.557</td>\n",
       "      <td>0.990</td>\n",
       "      <td>0.1450</td>\n",
       "      <td>0.242702</td>\n",
       "      <td>0.0542</td>\n",
       "      <td>3</td>\n",
       "    </tr>\n",
       "  </tbody>\n",
       "</table>\n",
       "</div>"
      ],
      "text/plain": [
       "                                               name              artist  \\\n",
       "42                                          Braille  Jan A.P. Kaczmarek   \n",
       "45                               River Flows in You              Yiruma   \n",
       "43                               River Flows In You              Yiruma   \n",
       "29                                         Memories      Ryan L Stewart   \n",
       "44                                    Kiss The Rain              Yiruma   \n",
       "8   My Heart Will Go On - Love Theme from \"Titanic\"        James Horner   \n",
       "46                                    Kiss the Rain              Yiruma   \n",
       "\n",
       "    danceability  acousticness  liveness  loudness  speechiness  label  \n",
       "42         0.183         0.943    0.0931  0.000000       0.0397      3  \n",
       "45         0.287         0.968    0.0900  0.203337       0.0541      3  \n",
       "43         0.314         0.987    0.0802  0.105496       0.0514      3  \n",
       "29         0.534         0.969    0.0780  0.342826       0.0353      3  \n",
       "44         0.559         0.990    0.1170  0.044975       0.0423      3  \n",
       "8          0.157         0.801    0.1260  0.161928       0.0360      3  \n",
       "46         0.557         0.990    0.1450  0.242702       0.0542      3  "
      ]
     },
     "execution_count": 115,
     "metadata": {},
     "output_type": "execute_result"
    }
   ],
   "source": [
    "#MOOD LABEL: ROMANTIC MOOD\n",
    "songs[songs['label'] == 3].tail(10)"
   ]
  },
  {
   "cell_type": "markdown",
   "metadata": {},
   "source": [
    "**Plotting histogram for each cluster based on their features that we have choosed**"
   ]
  },
  {
   "cell_type": "code",
   "execution_count": 116,
   "metadata": {},
   "outputs": [
    {
     "data": {
      "text/plain": [
       "array([[<matplotlib.axes._subplots.AxesSubplot object at 0x000001A1CD846E80>,\n",
       "        <matplotlib.axes._subplots.AxesSubplot object at 0x000001A1CDD10DC0>],\n",
       "       [<matplotlib.axes._subplots.AxesSubplot object at 0x000001A1CDA98610>,\n",
       "        <matplotlib.axes._subplots.AxesSubplot object at 0x000001A1CE0C7E20>],\n",
       "       [<matplotlib.axes._subplots.AxesSubplot object at 0x000001A1CDBC03D0>,\n",
       "        <matplotlib.axes._subplots.AxesSubplot object at 0x000001A1CE24FAF0>]],\n",
       "      dtype=object)"
      ]
     },
     "execution_count": 116,
     "metadata": {},
     "output_type": "execute_result"
    },
    {
     "data": {
      "image/png": "[encoded data removed]",
      "text/plain": [
       "<Figure size 432x288 with 6 Axes>"
      ]
     },
     "metadata": {},
     "output_type": "display_data"
    }
   ],
   "source": [
    "songs[songs['label']==0].hist()"
   ]
  },
  {
   "cell_type": "code",
   "execution_count": 117,
   "metadata": {},
   "outputs": [
    {
     "data": {
      "text/plain": [
       "array([[<matplotlib.axes._subplots.AxesSubplot object at 0x000001A1CDB76130>,\n",
       "        <matplotlib.axes._subplots.AxesSubplot object at 0x000001A1CE38CA00>],\n",
       "       [<matplotlib.axes._subplots.AxesSubplot object at 0x000001A1CE3B9E50>,\n",
       "        <matplotlib.axes._subplots.AxesSubplot object at 0x000001A1CE3F22E0>],\n",
       "       [<matplotlib.axes._subplots.AxesSubplot object at 0x000001A1CE41D730>,\n",
       "        <matplotlib.axes._subplots.AxesSubplot object at 0x000001A1CE44AAC0>]],\n",
       "      dtype=object)"
      ]
     },
     "execution_count": 117,
     "metadata": {},
     "output_type": "execute_result"
    },
    {
     "data": {
      "image/png": "[encoded data removed]",
      "text/plain": [
       "<Figure size 432x288 with 6 Axes>"
      ]
     },
     "metadata": {},
     "output_type": "display_data"
    }
   ],
   "source": [
    "songs[songs['label']==1].hist()"
   ]
  },
  {
   "cell_type": "code",
   "execution_count": 110,
   "metadata": {},
   "outputs": [
    {
     "data": {
      "text/plain": [
       "array([[<matplotlib.axes._subplots.AxesSubplot object at 0x000001A1CDDA4EE0>,\n",
       "        <matplotlib.axes._subplots.AxesSubplot object at 0x000001A1CDDB9A60>],\n",
       "       [<matplotlib.axes._subplots.AxesSubplot object at 0x000001A1CDDEFEB0>,\n",
       "        <matplotlib.axes._subplots.AxesSubplot object at 0x000001A1CDE2A340>],\n",
       "       [<matplotlib.axes._subplots.AxesSubplot object at 0x000001A1CDE4EF70>,\n",
       "        <matplotlib.axes._subplots.AxesSubplot object at 0x000001A1CDE84670>]],\n",
       "      dtype=object)"
      ]
     },
     "execution_count": 110,
     "metadata": {},
     "output_type": "execute_result"
    },
    {
     "data": {
      "image/png": "[encoded data removed]",
      "text/plain": [
       "<Figure size 432x288 with 6 Axes>"
      ]
     },
     "metadata": {},
     "output_type": "display_data"
    }
   ],
   "source": [
    "songs[songs['label']==2].hist()"
   ]
  },
  {
   "cell_type": "code",
   "execution_count": 111,
   "metadata": {},
   "outputs": [
    {
     "data": {
      "text/plain": [
       "array([[<matplotlib.axes._subplots.AxesSubplot object at 0x000001A1CDEE2D00>,\n",
       "        <matplotlib.axes._subplots.AxesSubplot object at 0x000001A1CDF961C0>],\n",
       "       [<matplotlib.axes._subplots.AxesSubplot object at 0x000001A1CDFF03D0>,\n",
       "        <matplotlib.axes._subplots.AxesSubplot object at 0x000001A1CE019B50>],\n",
       "       [<matplotlib.axes._subplots.AxesSubplot object at 0x000001A1CE04E310>,\n",
       "        <matplotlib.axes._subplots.AxesSubplot object at 0x000001A1CE0779D0>]],\n",
       "      dtype=object)"
      ]
     },
     "execution_count": 111,
     "metadata": {},
     "output_type": "execute_result"
    },
    {
     "data": {
      "image/png": "[encoded data removed]",
      "text/plain": [
       "<Figure size 432x288 with 6 Axes>"
      ]
     },
     "metadata": {},
     "output_type": "display_data"
    }
   ],
   "source": [
    "songs[songs['label']==3].hist()"
   ]
  },
  {
   "cell_type": "markdown",
   "metadata": {},
   "source": [
    "# Random Forest Classifier"
   ]
  },
  {
   "cell_type": "markdown",
   "metadata": {},
   "source": [
    "*Random forest classifier will handle the missing values and maintain the accuracy of a large proportion of data.*"
   ]
  },
  {
   "cell_type": "code",
   "execution_count": 183,
   "metadata": {},
   "outputs": [
    {
     "data": {
      "text/plain": [
       "RandomForestClassifier()"
      ]
     },
     "execution_count": 183,
     "metadata": {},
     "output_type": "execute_result"
    }
   ],
   "source": [
    "from sklearn.ensemble import RandomForestClassifier\n",
    "from sklearn.model_selection import train_test_split\n",
    "from sklearn.model_selection import cross_val_score\n",
    "from sklearn.metrics import classification_report, confusion_matrix\n",
    "from sklearn.utils.multiclass import unique_labels\n",
    "\n",
    "X = songs_features\n",
    "y = y_kmeans\n",
    "\n",
    "#Splitting Dataset into Training Set and Test Set.\n",
    "X_train, X_test, y_train, y_test = train_test_split(X, y, test_size=0.33)\n",
    "\n",
    "rfc = RandomForestClassifier(n_estimators=100,criterion='gini')\n",
    "rfc.fit(X_train,y_train)"
   ]
  },
  {
   "cell_type": "code",
   "execution_count": 266,
   "metadata": {},
   "outputs": [],
   "source": [
    "# Confusion matrix:A confusion matrix is a table that is often used to describe the performance of a classification model (or “classifier”) on a set of test data for which the true values are known\n",
    "def plot_confusion_matrix(y_true, y_pred, classes,normalize=False,title=None,cmap=plt.cm.PuRd):\n",
    "    if not title:\n",
    "        if normalize:\n",
    "            title = 'Normalized confusion matrix'\n",
    "        else:\n",
    "            title = 'Confusion matrix'\n",
    "    #Computing confusion matrix\n",
    "    cm = confusion_matrix(y_true, y_pred)\n",
    "    if normalize:\n",
    "        cm = cm.astype('float') / cm.sum(axis=1)[:, np.newaxis]\n",
    "        print(\"Normalized confusion matrix\")\n",
    "    else:\n",
    "        print('Confusion matrix, without normalization')\n",
    "    print(cm)\n",
    "    fig, ax = plt.subplots()\n",
    "    im = ax.imshow(cm, interpolation='nearest', cmap=cmap)\n",
    "    ax.figure.colorbar(im, ax=ax)\n",
    "    ax.set(xticks=np.arange(cm.shape[1]),\n",
    "           yticks=np.arange(cm.shape[0]),\n",
    "           # ... and label them with the respective list entries\n",
    "           xticklabels=classes, yticklabels=classes,\n",
    "           title=title,\n",
    "           ylabel='True',\n",
    "           xlabel='Predicted')\n",
    "    \n",
    "    #Rotating the tick labels and set their alignment.\n",
    "    plt.setp(ax.get_xticklabels(), rotation=45, ha=\"right\",rotation_mode=\"anchor\")\n",
    "\n",
    "    #Loop over data dimensions and create text annotations.\n",
    "    fmt = '.2f' if normalize else 'd'\n",
    "    thresh = cm.max() / 2.\n",
    "    for i in range(cm.shape[0]):\n",
    "        for j in range(cm.shape[1]):\n",
    "            ax.text(j, i, format(cm[i, j], fmt),\n",
    "                    ha=\"center\", va=\"center\",\n",
    "                    color=\"white\" if cm[i, j] > thresh else \"black\")\n",
    "    fig.tight_layout()\n",
    "    return ax"
   ]
  },
  {
   "cell_type": "code",
   "execution_count": 267,
   "metadata": {},
   "outputs": [
    {
     "name": "stdout",
     "output_type": "stream",
     "text": [
      "Confusion matrix, without normalization\n",
      "[[ 0  0  1  0]\n",
      " [ 0 11  4  2]\n",
      " [ 0  8  1  0]\n",
      " [ 2  3  1  0]]\n"
     ]
    },
    {
     "data": {
      "text/plain": [
       "<matplotlib.axes._subplots.AxesSubplot at 0x1a1d3448ac0>"
      ]
     },
     "execution_count": 267,
     "metadata": {},
     "output_type": "execute_result"
    },
    {
     "data": {
      "image/png": "[encoded data removed]",
      "text/plain": [
       "<Figure size 432x288 with 2 Axes>"
      ]
     },
     "metadata": {},
     "output_type": "display_data"
    }
   ],
   "source": [
    "definitions = ['Chill','Energetic','Cheerful','Romantic']\n",
    "plot_confusion_matrix(y_test, y_pred, classes=definitions,title='Confusion matrix for Random Forest Classifier')"
   ]
  },
  {
   "cell_type": "code",
   "execution_count": 268,
   "metadata": {},
   "outputs": [
    {
     "data": {
      "text/plain": [
       "[('danceability', 0.08750769899229678),\n",
       " ('acousticness', 0.5173191015537391),\n",
       " ('liveness', 0.08110835256765717),\n",
       " ('loudness', 0.21688139317401023),\n",
       " ('speechiness', 0.09718345371229674)]"
      ]
     },
     "execution_count": 268,
     "metadata": {},
     "output_type": "execute_result"
    }
   ],
   "source": [
    "# View a list of the features and their importance scores\n",
    "features = songs_features.columns\n",
    "list(zip(songs_features[features], rfc.feature_importances_))"
   ]
  },
  {
   "cell_type": "code",
   "execution_count": 269,
   "metadata": {},
   "outputs": [],
   "source": [
    "#Import Knn model\n",
    "from sklearn.neighbors import KNeighborsClassifier\n",
    "\n",
    "#Create a KNN Classifier\n",
    "knn = KNeighborsClassifier(n_neighbors=3)\n",
    "\n",
    "# Train the model using the training sets\n",
    "knn.fit(X_train,y_train)\n",
    "\n",
    "#Predict the response for test dataset\n",
    "knn_pred =knn.predict(X_test)"
   ]
  },
  {
   "cell_type": "code",
   "execution_count": 270,
   "metadata": {},
   "outputs": [
    {
     "name": "stdout",
     "output_type": "stream",
     "text": [
      "Confusion matrix, without normalization\n",
      "[[ 1  0  0  0]\n",
      " [ 0 17  0  0]\n",
      " [ 0  3  6  0]\n",
      " [ 1  0  0  5]]\n"
     ]
    },
    {
     "data": {
      "text/plain": [
       "<matplotlib.axes._subplots.AxesSubplot at 0x1a1d34e2d00>"
      ]
     },
     "execution_count": 270,
     "metadata": {},
     "output_type": "execute_result"
    },
    {
     "data": {
      "image/png": "[encoded data removed]",
      "text/plain": [
       "<Figure size 432x288 with 2 Axes>"
      ]
     },
     "metadata": {},
     "output_type": "display_data"
    }
   ],
   "source": [
    "plot_confusion_matrix(y_test, knn_pred, classes=definitions,title='Confusion matrix for KNN Classifier')"
   ]
  },
  {
   "cell_type": "code",
   "execution_count": 271,
   "metadata": {},
   "outputs": [],
   "source": [
    "#Import SVM model\n",
    "from sklearn import svm\n",
    "\n",
    "#Create a SVM Classifier\n",
    "svm = svm.SVC(kernel=\"linear\") \n",
    "\n",
    "#Train the model using the training sets\n",
    "svm.fit(X_train, y_train)\n",
    "\n",
    "#Predict the response for test dataset\n",
    "svm_pred = svm.predict(X_test)"
   ]
  },
  {
   "cell_type": "code",
   "execution_count": 272,
   "metadata": {},
   "outputs": [
    {
     "name": "stdout",
     "output_type": "stream",
     "text": [
      "Confusion matrix, without normalization\n",
      "[[ 1  0  0  0]\n",
      " [ 0 17  0  0]\n",
      " [ 0  9  0  0]\n",
      " [ 0  0  0  6]]\n"
     ]
    },
    {
     "data": {
      "text/plain": [
       "<matplotlib.axes._subplots.AxesSubplot at 0x1a1d356b9a0>"
      ]
     },
     "execution_count": 272,
     "metadata": {},
     "output_type": "execute_result"
    },
    {
     "data": {
      "image/png": "[encoded data removed]",
      "text/plain": [
       "<Figure size 432x288 with 2 Axes>"
      ]
     },
     "metadata": {},
     "output_type": "display_data"
    }
   ],
   "source": [
    "plot_confusion_matrix(y_test, svm_pred, classes=definitions,title='Confusion matrix for SVM')"
   ]
  },
  {
   "cell_type": "code",
   "execution_count": 273,
   "metadata": {},
   "outputs": [
    {
     "name": "stderr",
     "output_type": "stream",
     "text": [
      "E:\\Anaconda\\lib\\site-packages\\sklearn\\neural_network\\_multilayer_perceptron.py:582: ConvergenceWarning: Stochastic Optimizer: Maximum iterations (200) reached and the optimization hasn't converged yet.\n",
      "  warnings.warn(\n"
     ]
    }
   ],
   "source": [
    "#Import MLP model\n",
    "from sklearn.neural_network import MLPClassifier\n",
    "\n",
    "#Create a MLP Classifier\n",
    "mlp = MLPClassifier()\n",
    "\n",
    "#Train the model using the training sets\n",
    "mlp.fit(X_train, y_train)\n",
    "\n",
    "#Predict the response for test dataset\n",
    "mlp_pred = mlp.predict(X_test)"
   ]
  },
  {
   "cell_type": "code",
   "execution_count": 274,
   "metadata": {},
   "outputs": [
    {
     "name": "stdout",
     "output_type": "stream",
     "text": [
      "Confusion matrix, without normalization\n",
      "[[ 1  0  0  0]\n",
      " [ 0 17  0  0]\n",
      " [ 0  8  1  0]\n",
      " [ 0  0  0  6]]\n"
     ]
    },
    {
     "data": {
      "text/plain": [
       "<matplotlib.axes._subplots.AxesSubplot at 0x1a1d360baf0>"
      ]
     },
     "execution_count": 274,
     "metadata": {},
     "output_type": "execute_result"
    },
    {
     "data": {
      "image/png": "[encoded data removed]",
      "text/plain": [
       "<Figure size 432x288 with 2 Axes>"
      ]
     },
     "metadata": {},
     "output_type": "display_data"
    }
   ],
   "source": [
    "plot_confusion_matrix(y_test, mlp_pred, classes=definitions,title='Confusion matrix for MLP')"
   ]
  },
  {
   "cell_type": "code",
   "execution_count": 275,
   "metadata": {},
   "outputs": [
    {
     "name": "stdout",
     "output_type": "stream",
     "text": [
      "              precision    recall  f1-score   support\n",
      "\n",
      "       Chill       1.00      1.00      1.00         1\n",
      "   Energetic       0.68      1.00      0.81        17\n",
      "    Cheerful       1.00      0.11      0.20         9\n",
      "    Romantic       1.00      1.00      1.00         6\n",
      "\n",
      "    accuracy                           0.76        33\n",
      "   macro avg       0.92      0.78      0.75        33\n",
      "weighted avg       0.84      0.76      0.68        33\n",
      "MLP\n"
     ]
    }
   ],
   "source": [
    "print(classification_report(y_test,mlp_pred,target_names=definitions)+'MLP')"
   ]
  },
  {
   "cell_type": "code",
   "execution_count": 276,
   "metadata": {},
   "outputs": [
    {
     "name": "stdout",
     "output_type": "stream",
     "text": [
      "              precision    recall  f1-score   support\n",
      "\n",
      "       Chill       1.00      1.00      1.00         1\n",
      "   Energetic       0.65      1.00      0.79        17\n",
      "    Cheerful       0.00      0.00      0.00         9\n",
      "    Romantic       1.00      1.00      1.00         6\n",
      "\n",
      "    accuracy                           0.73        33\n",
      "   macro avg       0.66      0.75      0.70        33\n",
      "weighted avg       0.55      0.73      0.62        33\n",
      "SVM\n"
     ]
    },
    {
     "name": "stderr",
     "output_type": "stream",
     "text": [
      "E:\\Anaconda\\lib\\site-packages\\sklearn\\metrics\\_classification.py:1221: UndefinedMetricWarning: Precision and F-score are ill-defined and being set to 0.0 in labels with no predicted samples. Use `zero_division` parameter to control this behavior.\n",
      "  _warn_prf(average, modifier, msg_start, len(result))\n"
     ]
    }
   ],
   "source": [
    "print(classification_report(y_test,svm_pred,target_names=definitions)+'SVM')"
   ]
  },
  {
   "cell_type": "code",
   "execution_count": 277,
   "metadata": {},
   "outputs": [
    {
     "name": "stdout",
     "output_type": "stream",
     "text": [
      "              precision    recall  f1-score   support\n",
      "\n",
      "       Chill       0.50      1.00      0.67         1\n",
      "   Energetic       0.85      1.00      0.92        17\n",
      "    Cheerful       1.00      0.67      0.80         9\n",
      "    Romantic       1.00      0.83      0.91         6\n",
      "\n",
      "    accuracy                           0.88        33\n",
      "   macro avg       0.84      0.88      0.82        33\n",
      "weighted avg       0.91      0.88      0.88        33\n",
      "KNN\n"
     ]
    }
   ],
   "source": [
    "print(classification_report(y_test,knn_pred,target_names=definitions)+'KNN')"
   ]
  },
  {
   "cell_type": "code",
   "execution_count": 278,
   "metadata": {},
   "outputs": [
    {
     "name": "stdout",
     "output_type": "stream",
     "text": [
      "              precision    recall  f1-score   support\n",
      "\n",
      "       Chill       0.00      0.00      0.00         1\n",
      "   Energetic       0.50      0.65      0.56        17\n",
      "    Cheerful       0.14      0.11      0.12         9\n",
      "    Romantic       0.00      0.00      0.00         6\n",
      "\n",
      "    accuracy                           0.36        33\n",
      "   macro avg       0.16      0.19      0.17        33\n",
      "weighted avg       0.30      0.36      0.32        33\n",
      "RF\n"
     ]
    }
   ],
   "source": [
    "print(classification_report(y_test,y_pred,target_names=definitions)+'RF')"
   ]
  }
 ],
 "metadata": {
  "kernelspec": {
   "display_name": "Python 3",
   "language": "python",
   "name": "python3"
  },
  "language_info": {
   "codemirror_mode": {
    "name": "ipython",
    "version": 3
   },
   "file_extension": ".py",
   "mimetype": "text/x-python",
   "name": "python",
   "nbconvert_exporter": "python",
   "pygments_lexer": "ipython3",
   "version": "3.8.3"
  }
 },
 "nbformat": 4,
 "nbformat_minor": 4
}
